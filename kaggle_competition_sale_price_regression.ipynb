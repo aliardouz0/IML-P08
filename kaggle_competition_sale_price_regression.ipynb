{
 "cells": [
  {
   "cell_type": "code",
   "execution_count": null,
   "id": "f87bd075-6184-443f-8cb5-73e2329d7a7f",
   "metadata": {},
   "outputs": [],
   "source": []
  },
  {
   "cell_type": "code",
   "execution_count": 1,
   "id": "20ac7ca4-5e20-43c0-b1d0-cc668d90fd18",
   "metadata": {},
   "outputs": [],
   "source": [
    "%load_ext pycodestyle_magic"
   ]
  },
  {
   "cell_type": "code",
   "execution_count": 2,
   "id": "6891e90b-b1f6-4c61-9fab-b6a20965b472",
   "metadata": {},
   "outputs": [],
   "source": [
    "%pycodestyle_on"
   ]
  },
  {
   "cell_type": "markdown",
   "id": "3a4922b8-c068-446b-9df4-8c0831b01d93",
   "metadata": {},
   "source": [
    "# loading libraries "
   ]
  },
  {
   "cell_type": "code",
   "execution_count": 3,
   "id": "3f030806-7fbe-4259-895f-a648f98290cf",
   "metadata": {},
   "outputs": [],
   "source": [
    "import missingno as msno\n",
    "import numpy as np\n",
    "import pandas as pd\n",
    "import matplotlib as plt\n",
    "import seaborn as sns\n",
    "import timeit\n",
    "import quilt\n",
    "import missingno as msno\n",
    "from sklearn.impute import KNNImputer\n",
    "from sklearn.preprocessing import StandardScaler\n",
    "from sklearn.model_selection import train_test_split\n",
    "import sklearn\n",
    "from sklearn import linear_model\n",
    "from sklearn import linear_model\n",
    "from sklearn.linear_model import Ridge\n",
    "from sklearn import linear_model\n",
    "from sklearn import neighbors\n",
    "from matplotlib.pyplot import figure\n",
    "from sklearn.ensemble import RandomForestRegressor\n",
    "from sklearn.svm import SVR\n",
    "from sklearn.ensemble import GradientBoostingRegressor\n",
    "from sklearn.metrics import mean_squared_error\n",
    "from sklearn import neighbors, metrics\n",
    "from sklearn import model_selection\n",
    "from sklearn import ensemble\n",
    "from sklearn.linear_model import SGDRegressor\n",
    "from sklearn.neural_network import MLPRegressor"
   ]
  },
  {
   "cell_type": "markdown",
   "id": "45798843-1c1f-437f-85f5-f30e88544342",
   "metadata": {},
   "source": [
    "# loading data"
   ]
  },
  {
   "cell_type": "code",
   "execution_count": null,
   "id": "55f18f83-bdfd-47a5-b0c4-1cdacfa886f6",
   "metadata": {},
   "outputs": [],
   "source": []
  },
  {
   "cell_type": "code",
   "execution_count": 4,
   "id": "555f3972-2029-4f68-a029-cafae0b75b69",
   "metadata": {},
   "outputs": [],
   "source": [
    "train_df = pd.read_csv('C:\\\\Ali\\\\P08\\\\train.csv', index_col=0)\n",
    "test_df = pd.read_csv('C:\\\\Ali\\\\P08\\\\test.csv', index_col=0)\n",
    "val_type_df = pd.read_csv('C:\\\\Ali\\\\P08\\\\type_var.csv', sep=',')"
   ]
  },
  {
   "cell_type": "markdown",
   "id": "201a4463-e27a-44bf-91ee-e9cfdc70ab49",
   "metadata": {},
   "source": [
    "# Data cleaning an preprocessing"
   ]
  },
  {
   "cell_type": "code",
   "execution_count": 5,
   "id": "33de67b7-6114-4650-8b53-a60e9edeee7f",
   "metadata": {},
   "outputs": [],
   "source": [
    "def miss_values(data_df):\n",
    "    columns = ['colonne', 'nb_val_manquante']\n",
    "    index = [x for x in range(0, data_df.shape[1])]\n",
    "    df_ = pd.DataFrame(index=index, columns=columns)\n",
    "    df_ = df_.fillna(0)\n",
    "    i = -1\n",
    "    for col in data_df.columns:\n",
    "        i = i + 1\n",
    "        count = data_df[col].isna().sum()\n",
    "        df_.iloc[i, 0] = col\n",
    "        df_.iloc[i, 1] = count/data_df.shape[0]*100\n",
    "    sorted_df = df_.sort_values(by='nb_val_manquante')\n",
    "    sorted_df.reindex(index, fill_value=0)\n",
    "    return sorted_df"
   ]
  },
  {
   "cell_type": "markdown",
   "id": "a6151d3d-9ae4-4333-a47c-00becc1e1604",
   "metadata": {},
   "source": [
    "## data cleanin by variable type"
   ]
  },
  {
   "cell_type": "markdown",
   "id": "ae716a6c-8cb2-4538-82aa-8333bcf443e0",
   "metadata": {},
   "source": [
    "## quant data "
   ]
  },
  {
   "cell_type": "code",
   "execution_count": 6,
   "id": "8ef7173c-2b28-425c-a6e8-fd46cfea15f6",
   "metadata": {},
   "outputs": [
    {
     "name": "stdout",
     "output_type": "stream",
     "text": [
      "(1460, 29)\n",
      "Index(['FullBath', 'PoolArea', 'ScreenPorch', '3SsnPorch', 'EnclosedPorch',\n",
      "       'OpenPorchSF', 'WoodDeckSF', 'GarageArea', 'GarageCars', 'Fireplaces',\n",
      "       'TotRmsAbvGrd', 'KitchenAbvGr', 'BedroomAbvGr', 'HalfBath', 'MiscVal',\n",
      "       'YrSold', 'BsmtFullBath', 'GrLivArea', 'LowQualFinSF', '2ndFlrSF',\n",
      "       '1stFlrSF', 'TotalBsmtSF', 'BsmtUnfSF', 'BsmtFinSF2', 'BsmtFinSF1',\n",
      "       'YearRemodAdd', 'YearBuilt', 'LotArea', 'BsmtHalfBath'],\n",
      "      dtype='object')\n"
     ]
    }
   ],
   "source": [
    "quant_vars = val_type_df[val_type_df['TYPE'] == \"QT\"]\n",
    "data_sample_1 = train_df[quant_vars.VAR.values]\n",
    "df_temp = miss_values(data_sample_1)\n",
    "data_sample_1 = data_sample_1[\n",
    "    df_temp[df_temp['nb_val_manquante'] == 0.0]['colonne']]\n",
    "print(data_sample_1.shape)\n",
    "print(data_sample_1.columns)"
   ]
  },
  {
   "cell_type": "markdown",
   "id": "6f8e3fb7-af58-4647-94c8-73479cc56600",
   "metadata": {},
   "source": [
    "## qual data "
   ]
  },
  {
   "cell_type": "code",
   "execution_count": 7,
   "id": "2ad6757d-3e61-4433-beb1-6c0a0364f6d4",
   "metadata": {},
   "outputs": [],
   "source": [
    "def preprocess_qual_var(df, columns):\n",
    "    for col in df.columns:\n",
    "        if col in columns:\n",
    "            df.loc[df[col] == 'Po', col] = 1\n",
    "            df.loc[df[col] == 'Fa', col] = 2\n",
    "            df.loc[df[col] == 'TA', col] = 3\n",
    "            df.loc[df[col] == 'Gd', col] = 4\n",
    "            df.loc[df[col] == 'Ex', col] = 5\n",
    "    return df"
   ]
  },
  {
   "cell_type": "code",
   "execution_count": 8,
   "id": "ec09335d-762a-4467-ad0b-ba9937b8bf85",
   "metadata": {},
   "outputs": [
    {
     "name": "stdout",
     "output_type": "stream",
     "text": [
      "(1460, 7)\n",
      "Index(['OverallQual', 'OverallCond', 'ExterQual', 'ExterCond', 'HeatingQC',\n",
      "       'KitchenQual', 'MoSold'],\n",
      "      dtype='object')\n"
     ]
    }
   ],
   "source": [
    "qual_vars = val_type_df[val_type_df['TYPE'] == \"QL\"]\n",
    "data_sample_2 = train_df[qual_vars.VAR.values]\n",
    "df_temp = miss_values(data_sample_2)\n",
    "data_sample_2 = data_sample_2[\n",
    "    df_temp[df_temp['nb_val_manquante'] == 0.0]['colonne']]\n",
    "print(data_sample_2.shape)\n",
    "print(data_sample_2.columns)"
   ]
  },
  {
   "cell_type": "code",
   "execution_count": 9,
   "id": "c9706b1b-5c91-4de6-ba03-3a84a02aa85e",
   "metadata": {},
   "outputs": [],
   "source": [
    "cols = ['ExterQual', 'ExterCond', 'HeatingQC', 'KitchenQual']"
   ]
  },
  {
   "cell_type": "code",
   "execution_count": 10,
   "id": "5ae5055c-7125-4e64-875c-bc843cc397ec",
   "metadata": {},
   "outputs": [],
   "source": [
    "data_sample_2 = preprocess_qual_var(data_sample_2, cols)"
   ]
  },
  {
   "cell_type": "markdown",
   "id": "a2395ec0-8ad1-4957-9c0e-7b5fb36a553f",
   "metadata": {},
   "source": [
    "## CAT data "
   ]
  },
  {
   "cell_type": "code",
   "execution_count": 11,
   "id": "9d0ac7ef-bcec-430a-8104-9f735023ec3c",
   "metadata": {},
   "outputs": [
    {
     "name": "stdout",
     "output_type": "stream",
     "text": [
      "(1460, 24)\n",
      "Index(['MSSubClass', 'PavedDrive', 'Functional', 'CentralAir', 'Heating',\n",
      "       'Foundation', 'Exterior2nd', 'Exterior1st', 'SaleType', 'RoofStyle',\n",
      "       'HouseStyle', 'BldgType', 'RoofMatl', 'Condition1', 'MSZoning',\n",
      "       'Street', 'Condition2', 'LandContour', 'LotShape', 'Utilities',\n",
      "       'LotConfig', 'LandSlope', 'Neighborhood', 'SaleCondition'],\n",
      "      dtype='object')\n"
     ]
    }
   ],
   "source": [
    "cat_vars = val_type_df[val_type_df['TYPE'] == \"CAT\"]\n",
    "data_sample_3 = train_df[cat_vars.VAR.values]\n",
    "df_temp = miss_values(data_sample_3)\n",
    "data_sample_3 = data_sample_3[\n",
    "    df_temp[df_temp['nb_val_manquante'] == 0.0]['colonne']]\n",
    "print(data_sample_3.shape)\n",
    "print(data_sample_3.columns)"
   ]
  },
  {
   "cell_type": "code",
   "execution_count": 12,
   "id": "0cc26c22-4c73-4878-8ddd-bde61c0813a4",
   "metadata": {},
   "outputs": [
    {
     "name": "stdout",
     "output_type": "stream",
     "text": [
      "(1460, 165)\n",
      "Index(['MSSubClass', 'PavedDrive_N', 'PavedDrive_P', 'PavedDrive_Y',\n",
      "       'Functional_Maj1', 'Functional_Maj2', 'Functional_Min1',\n",
      "       'Functional_Min2', 'Functional_Mod', 'Functional_Sev',\n",
      "       ...\n",
      "       'Neighborhood_Somerst', 'Neighborhood_StoneBr', 'Neighborhood_Timber',\n",
      "       'Neighborhood_Veenker', 'SaleCondition_Abnorml',\n",
      "       'SaleCondition_AdjLand', 'SaleCondition_Alloca', 'SaleCondition_Family',\n",
      "       'SaleCondition_Normal', 'SaleCondition_Partial'],\n",
      "      dtype='object', length=165)\n"
     ]
    }
   ],
   "source": [
    "data_sample_3 = pd.get_dummies(data_sample_3)\n",
    "print(data_sample_3.shape)\n",
    "print(data_sample_3.columns)"
   ]
  },
  {
   "cell_type": "markdown",
   "id": "aed9546f-b810-4dbd-98c4-d61811f61fd9",
   "metadata": {},
   "source": [
    "## final data "
   ]
  },
  {
   "cell_type": "code",
   "execution_count": 13,
   "id": "920481ad-d843-4d3f-b78d-5bc3e83f7904",
   "metadata": {},
   "outputs": [],
   "source": [
    "x_data_final = pd.concat([data_sample_1, data_sample_2, data_sample_3], axis=1)\n",
    "features = x_data_final.columns"
   ]
  },
  {
   "cell_type": "code",
   "execution_count": 14,
   "id": "07da63ce-2cb4-44b9-a37a-0a9cae7beb2d",
   "metadata": {},
   "outputs": [],
   "source": [
    "target_df = pd.DataFrame(\n",
    "    train_df.SalePrice, index=train_df.index, columns=['SalePrice'])"
   ]
  },
  {
   "cell_type": "code",
   "execution_count": 15,
   "id": "cdbdcd5e-c3a9-4467-985c-a252e47dc6fe",
   "metadata": {},
   "outputs": [],
   "source": [
    "data_final = pd.concat([x_data_final, target_df], axis=1)"
   ]
  },
  {
   "cell_type": "code",
   "execution_count": 16,
   "id": "5cb53dba-5ed2-4dda-ab6f-1f97c89048e7",
   "metadata": {},
   "outputs": [
    {
     "data": {
      "text/html": [
       "<div>\n",
       "<style scoped>\n",
       "    .dataframe tbody tr th:only-of-type {\n",
       "        vertical-align: middle;\n",
       "    }\n",
       "\n",
       "    .dataframe tbody tr th {\n",
       "        vertical-align: top;\n",
       "    }\n",
       "\n",
       "    .dataframe thead th {\n",
       "        text-align: right;\n",
       "    }\n",
       "</style>\n",
       "<table border=\"1\" class=\"dataframe\">\n",
       "  <thead>\n",
       "    <tr style=\"text-align: right;\">\n",
       "      <th></th>\n",
       "      <th>FullBath</th>\n",
       "      <th>PoolArea</th>\n",
       "      <th>ScreenPorch</th>\n",
       "      <th>3SsnPorch</th>\n",
       "      <th>EnclosedPorch</th>\n",
       "      <th>OpenPorchSF</th>\n",
       "      <th>WoodDeckSF</th>\n",
       "      <th>GarageArea</th>\n",
       "      <th>GarageCars</th>\n",
       "      <th>Fireplaces</th>\n",
       "      <th>...</th>\n",
       "      <th>Neighborhood_Somerst</th>\n",
       "      <th>Neighborhood_StoneBr</th>\n",
       "      <th>Neighborhood_Timber</th>\n",
       "      <th>Neighborhood_Veenker</th>\n",
       "      <th>SaleCondition_Abnorml</th>\n",
       "      <th>SaleCondition_AdjLand</th>\n",
       "      <th>SaleCondition_Alloca</th>\n",
       "      <th>SaleCondition_Family</th>\n",
       "      <th>SaleCondition_Normal</th>\n",
       "      <th>SaleCondition_Partial</th>\n",
       "    </tr>\n",
       "    <tr>\n",
       "      <th>Id</th>\n",
       "      <th></th>\n",
       "      <th></th>\n",
       "      <th></th>\n",
       "      <th></th>\n",
       "      <th></th>\n",
       "      <th></th>\n",
       "      <th></th>\n",
       "      <th></th>\n",
       "      <th></th>\n",
       "      <th></th>\n",
       "      <th></th>\n",
       "      <th></th>\n",
       "      <th></th>\n",
       "      <th></th>\n",
       "      <th></th>\n",
       "      <th></th>\n",
       "      <th></th>\n",
       "      <th></th>\n",
       "      <th></th>\n",
       "      <th></th>\n",
       "      <th></th>\n",
       "    </tr>\n",
       "  </thead>\n",
       "  <tbody>\n",
       "    <tr>\n",
       "      <th>1</th>\n",
       "      <td>2</td>\n",
       "      <td>0</td>\n",
       "      <td>0</td>\n",
       "      <td>0</td>\n",
       "      <td>0</td>\n",
       "      <td>61</td>\n",
       "      <td>0</td>\n",
       "      <td>548</td>\n",
       "      <td>2</td>\n",
       "      <td>0</td>\n",
       "      <td>...</td>\n",
       "      <td>0</td>\n",
       "      <td>0</td>\n",
       "      <td>0</td>\n",
       "      <td>0</td>\n",
       "      <td>0</td>\n",
       "      <td>0</td>\n",
       "      <td>0</td>\n",
       "      <td>0</td>\n",
       "      <td>1</td>\n",
       "      <td>0</td>\n",
       "    </tr>\n",
       "    <tr>\n",
       "      <th>2</th>\n",
       "      <td>2</td>\n",
       "      <td>0</td>\n",
       "      <td>0</td>\n",
       "      <td>0</td>\n",
       "      <td>0</td>\n",
       "      <td>0</td>\n",
       "      <td>298</td>\n",
       "      <td>460</td>\n",
       "      <td>2</td>\n",
       "      <td>1</td>\n",
       "      <td>...</td>\n",
       "      <td>0</td>\n",
       "      <td>0</td>\n",
       "      <td>0</td>\n",
       "      <td>1</td>\n",
       "      <td>0</td>\n",
       "      <td>0</td>\n",
       "      <td>0</td>\n",
       "      <td>0</td>\n",
       "      <td>1</td>\n",
       "      <td>0</td>\n",
       "    </tr>\n",
       "    <tr>\n",
       "      <th>3</th>\n",
       "      <td>2</td>\n",
       "      <td>0</td>\n",
       "      <td>0</td>\n",
       "      <td>0</td>\n",
       "      <td>0</td>\n",
       "      <td>42</td>\n",
       "      <td>0</td>\n",
       "      <td>608</td>\n",
       "      <td>2</td>\n",
       "      <td>1</td>\n",
       "      <td>...</td>\n",
       "      <td>0</td>\n",
       "      <td>0</td>\n",
       "      <td>0</td>\n",
       "      <td>0</td>\n",
       "      <td>0</td>\n",
       "      <td>0</td>\n",
       "      <td>0</td>\n",
       "      <td>0</td>\n",
       "      <td>1</td>\n",
       "      <td>0</td>\n",
       "    </tr>\n",
       "    <tr>\n",
       "      <th>4</th>\n",
       "      <td>1</td>\n",
       "      <td>0</td>\n",
       "      <td>0</td>\n",
       "      <td>0</td>\n",
       "      <td>272</td>\n",
       "      <td>35</td>\n",
       "      <td>0</td>\n",
       "      <td>642</td>\n",
       "      <td>3</td>\n",
       "      <td>1</td>\n",
       "      <td>...</td>\n",
       "      <td>0</td>\n",
       "      <td>0</td>\n",
       "      <td>0</td>\n",
       "      <td>0</td>\n",
       "      <td>1</td>\n",
       "      <td>0</td>\n",
       "      <td>0</td>\n",
       "      <td>0</td>\n",
       "      <td>0</td>\n",
       "      <td>0</td>\n",
       "    </tr>\n",
       "    <tr>\n",
       "      <th>5</th>\n",
       "      <td>2</td>\n",
       "      <td>0</td>\n",
       "      <td>0</td>\n",
       "      <td>0</td>\n",
       "      <td>0</td>\n",
       "      <td>84</td>\n",
       "      <td>192</td>\n",
       "      <td>836</td>\n",
       "      <td>3</td>\n",
       "      <td>1</td>\n",
       "      <td>...</td>\n",
       "      <td>0</td>\n",
       "      <td>0</td>\n",
       "      <td>0</td>\n",
       "      <td>0</td>\n",
       "      <td>0</td>\n",
       "      <td>0</td>\n",
       "      <td>0</td>\n",
       "      <td>0</td>\n",
       "      <td>1</td>\n",
       "      <td>0</td>\n",
       "    </tr>\n",
       "    <tr>\n",
       "      <th>...</th>\n",
       "      <td>...</td>\n",
       "      <td>...</td>\n",
       "      <td>...</td>\n",
       "      <td>...</td>\n",
       "      <td>...</td>\n",
       "      <td>...</td>\n",
       "      <td>...</td>\n",
       "      <td>...</td>\n",
       "      <td>...</td>\n",
       "      <td>...</td>\n",
       "      <td>...</td>\n",
       "      <td>...</td>\n",
       "      <td>...</td>\n",
       "      <td>...</td>\n",
       "      <td>...</td>\n",
       "      <td>...</td>\n",
       "      <td>...</td>\n",
       "      <td>...</td>\n",
       "      <td>...</td>\n",
       "      <td>...</td>\n",
       "      <td>...</td>\n",
       "    </tr>\n",
       "    <tr>\n",
       "      <th>1456</th>\n",
       "      <td>2</td>\n",
       "      <td>0</td>\n",
       "      <td>0</td>\n",
       "      <td>0</td>\n",
       "      <td>0</td>\n",
       "      <td>40</td>\n",
       "      <td>0</td>\n",
       "      <td>460</td>\n",
       "      <td>2</td>\n",
       "      <td>1</td>\n",
       "      <td>...</td>\n",
       "      <td>0</td>\n",
       "      <td>0</td>\n",
       "      <td>0</td>\n",
       "      <td>0</td>\n",
       "      <td>0</td>\n",
       "      <td>0</td>\n",
       "      <td>0</td>\n",
       "      <td>0</td>\n",
       "      <td>1</td>\n",
       "      <td>0</td>\n",
       "    </tr>\n",
       "    <tr>\n",
       "      <th>1457</th>\n",
       "      <td>2</td>\n",
       "      <td>0</td>\n",
       "      <td>0</td>\n",
       "      <td>0</td>\n",
       "      <td>0</td>\n",
       "      <td>0</td>\n",
       "      <td>349</td>\n",
       "      <td>500</td>\n",
       "      <td>2</td>\n",
       "      <td>2</td>\n",
       "      <td>...</td>\n",
       "      <td>0</td>\n",
       "      <td>0</td>\n",
       "      <td>0</td>\n",
       "      <td>0</td>\n",
       "      <td>0</td>\n",
       "      <td>0</td>\n",
       "      <td>0</td>\n",
       "      <td>0</td>\n",
       "      <td>1</td>\n",
       "      <td>0</td>\n",
       "    </tr>\n",
       "    <tr>\n",
       "      <th>1458</th>\n",
       "      <td>2</td>\n",
       "      <td>0</td>\n",
       "      <td>0</td>\n",
       "      <td>0</td>\n",
       "      <td>0</td>\n",
       "      <td>60</td>\n",
       "      <td>0</td>\n",
       "      <td>252</td>\n",
       "      <td>1</td>\n",
       "      <td>2</td>\n",
       "      <td>...</td>\n",
       "      <td>0</td>\n",
       "      <td>0</td>\n",
       "      <td>0</td>\n",
       "      <td>0</td>\n",
       "      <td>0</td>\n",
       "      <td>0</td>\n",
       "      <td>0</td>\n",
       "      <td>0</td>\n",
       "      <td>1</td>\n",
       "      <td>0</td>\n",
       "    </tr>\n",
       "    <tr>\n",
       "      <th>1459</th>\n",
       "      <td>1</td>\n",
       "      <td>0</td>\n",
       "      <td>0</td>\n",
       "      <td>0</td>\n",
       "      <td>112</td>\n",
       "      <td>0</td>\n",
       "      <td>366</td>\n",
       "      <td>240</td>\n",
       "      <td>1</td>\n",
       "      <td>0</td>\n",
       "      <td>...</td>\n",
       "      <td>0</td>\n",
       "      <td>0</td>\n",
       "      <td>0</td>\n",
       "      <td>0</td>\n",
       "      <td>0</td>\n",
       "      <td>0</td>\n",
       "      <td>0</td>\n",
       "      <td>0</td>\n",
       "      <td>1</td>\n",
       "      <td>0</td>\n",
       "    </tr>\n",
       "    <tr>\n",
       "      <th>1460</th>\n",
       "      <td>1</td>\n",
       "      <td>0</td>\n",
       "      <td>0</td>\n",
       "      <td>0</td>\n",
       "      <td>0</td>\n",
       "      <td>68</td>\n",
       "      <td>736</td>\n",
       "      <td>276</td>\n",
       "      <td>1</td>\n",
       "      <td>0</td>\n",
       "      <td>...</td>\n",
       "      <td>0</td>\n",
       "      <td>0</td>\n",
       "      <td>0</td>\n",
       "      <td>0</td>\n",
       "      <td>0</td>\n",
       "      <td>0</td>\n",
       "      <td>0</td>\n",
       "      <td>0</td>\n",
       "      <td>1</td>\n",
       "      <td>0</td>\n",
       "    </tr>\n",
       "  </tbody>\n",
       "</table>\n",
       "<p>1460 rows × 201 columns</p>\n",
       "</div>"
      ],
      "text/plain": [
       "      FullBath  PoolArea  ScreenPorch  3SsnPorch  EnclosedPorch  OpenPorchSF  \\\n",
       "Id                                                                             \n",
       "1            2         0            0          0              0           61   \n",
       "2            2         0            0          0              0            0   \n",
       "3            2         0            0          0              0           42   \n",
       "4            1         0            0          0            272           35   \n",
       "5            2         0            0          0              0           84   \n",
       "...        ...       ...          ...        ...            ...          ...   \n",
       "1456         2         0            0          0              0           40   \n",
       "1457         2         0            0          0              0            0   \n",
       "1458         2         0            0          0              0           60   \n",
       "1459         1         0            0          0            112            0   \n",
       "1460         1         0            0          0              0           68   \n",
       "\n",
       "      WoodDeckSF  GarageArea  GarageCars  Fireplaces  ...  \\\n",
       "Id                                                    ...   \n",
       "1              0         548           2           0  ...   \n",
       "2            298         460           2           1  ...   \n",
       "3              0         608           2           1  ...   \n",
       "4              0         642           3           1  ...   \n",
       "5            192         836           3           1  ...   \n",
       "...          ...         ...         ...         ...  ...   \n",
       "1456           0         460           2           1  ...   \n",
       "1457         349         500           2           2  ...   \n",
       "1458           0         252           1           2  ...   \n",
       "1459         366         240           1           0  ...   \n",
       "1460         736         276           1           0  ...   \n",
       "\n",
       "      Neighborhood_Somerst  Neighborhood_StoneBr  Neighborhood_Timber  \\\n",
       "Id                                                                      \n",
       "1                        0                     0                    0   \n",
       "2                        0                     0                    0   \n",
       "3                        0                     0                    0   \n",
       "4                        0                     0                    0   \n",
       "5                        0                     0                    0   \n",
       "...                    ...                   ...                  ...   \n",
       "1456                     0                     0                    0   \n",
       "1457                     0                     0                    0   \n",
       "1458                     0                     0                    0   \n",
       "1459                     0                     0                    0   \n",
       "1460                     0                     0                    0   \n",
       "\n",
       "      Neighborhood_Veenker  SaleCondition_Abnorml  SaleCondition_AdjLand  \\\n",
       "Id                                                                         \n",
       "1                        0                      0                      0   \n",
       "2                        1                      0                      0   \n",
       "3                        0                      0                      0   \n",
       "4                        0                      1                      0   \n",
       "5                        0                      0                      0   \n",
       "...                    ...                    ...                    ...   \n",
       "1456                     0                      0                      0   \n",
       "1457                     0                      0                      0   \n",
       "1458                     0                      0                      0   \n",
       "1459                     0                      0                      0   \n",
       "1460                     0                      0                      0   \n",
       "\n",
       "      SaleCondition_Alloca  SaleCondition_Family  SaleCondition_Normal  \\\n",
       "Id                                                                       \n",
       "1                        0                     0                     1   \n",
       "2                        0                     0                     1   \n",
       "3                        0                     0                     1   \n",
       "4                        0                     0                     0   \n",
       "5                        0                     0                     1   \n",
       "...                    ...                   ...                   ...   \n",
       "1456                     0                     0                     1   \n",
       "1457                     0                     0                     1   \n",
       "1458                     0                     0                     1   \n",
       "1459                     0                     0                     1   \n",
       "1460                     0                     0                     1   \n",
       "\n",
       "      SaleCondition_Partial  \n",
       "Id                           \n",
       "1                         0  \n",
       "2                         0  \n",
       "3                         0  \n",
       "4                         0  \n",
       "5                         0  \n",
       "...                     ...  \n",
       "1456                      0  \n",
       "1457                      0  \n",
       "1458                      0  \n",
       "1459                      0  \n",
       "1460                      0  \n",
       "\n",
       "[1460 rows x 201 columns]"
      ]
     },
     "execution_count": 16,
     "metadata": {},
     "output_type": "execute_result"
    }
   ],
   "source": [
    "x_data_final"
   ]
  },
  {
   "cell_type": "code",
   "execution_count": 17,
   "id": "fa8e9d2d-a4fe-4ab9-9cde-2a9a77660ad2",
   "metadata": {},
   "outputs": [
    {
     "data": {
      "text/html": [
       "<div>\n",
       "<style scoped>\n",
       "    .dataframe tbody tr th:only-of-type {\n",
       "        vertical-align: middle;\n",
       "    }\n",
       "\n",
       "    .dataframe tbody tr th {\n",
       "        vertical-align: top;\n",
       "    }\n",
       "\n",
       "    .dataframe thead th {\n",
       "        text-align: right;\n",
       "    }\n",
       "</style>\n",
       "<table border=\"1\" class=\"dataframe\">\n",
       "  <thead>\n",
       "    <tr style=\"text-align: right;\">\n",
       "      <th></th>\n",
       "      <th>FullBath</th>\n",
       "      <th>PoolArea</th>\n",
       "      <th>ScreenPorch</th>\n",
       "      <th>3SsnPorch</th>\n",
       "      <th>EnclosedPorch</th>\n",
       "      <th>OpenPorchSF</th>\n",
       "      <th>WoodDeckSF</th>\n",
       "      <th>GarageArea</th>\n",
       "      <th>GarageCars</th>\n",
       "      <th>Fireplaces</th>\n",
       "      <th>...</th>\n",
       "      <th>Neighborhood_StoneBr</th>\n",
       "      <th>Neighborhood_Timber</th>\n",
       "      <th>Neighborhood_Veenker</th>\n",
       "      <th>SaleCondition_Abnorml</th>\n",
       "      <th>SaleCondition_AdjLand</th>\n",
       "      <th>SaleCondition_Alloca</th>\n",
       "      <th>SaleCondition_Family</th>\n",
       "      <th>SaleCondition_Normal</th>\n",
       "      <th>SaleCondition_Partial</th>\n",
       "      <th>SalePrice</th>\n",
       "    </tr>\n",
       "    <tr>\n",
       "      <th>Id</th>\n",
       "      <th></th>\n",
       "      <th></th>\n",
       "      <th></th>\n",
       "      <th></th>\n",
       "      <th></th>\n",
       "      <th></th>\n",
       "      <th></th>\n",
       "      <th></th>\n",
       "      <th></th>\n",
       "      <th></th>\n",
       "      <th></th>\n",
       "      <th></th>\n",
       "      <th></th>\n",
       "      <th></th>\n",
       "      <th></th>\n",
       "      <th></th>\n",
       "      <th></th>\n",
       "      <th></th>\n",
       "      <th></th>\n",
       "      <th></th>\n",
       "      <th></th>\n",
       "    </tr>\n",
       "  </thead>\n",
       "  <tbody>\n",
       "    <tr>\n",
       "      <th>1</th>\n",
       "      <td>2</td>\n",
       "      <td>0</td>\n",
       "      <td>0</td>\n",
       "      <td>0</td>\n",
       "      <td>0</td>\n",
       "      <td>61</td>\n",
       "      <td>0</td>\n",
       "      <td>548</td>\n",
       "      <td>2</td>\n",
       "      <td>0</td>\n",
       "      <td>...</td>\n",
       "      <td>0</td>\n",
       "      <td>0</td>\n",
       "      <td>0</td>\n",
       "      <td>0</td>\n",
       "      <td>0</td>\n",
       "      <td>0</td>\n",
       "      <td>0</td>\n",
       "      <td>1</td>\n",
       "      <td>0</td>\n",
       "      <td>208500</td>\n",
       "    </tr>\n",
       "    <tr>\n",
       "      <th>2</th>\n",
       "      <td>2</td>\n",
       "      <td>0</td>\n",
       "      <td>0</td>\n",
       "      <td>0</td>\n",
       "      <td>0</td>\n",
       "      <td>0</td>\n",
       "      <td>298</td>\n",
       "      <td>460</td>\n",
       "      <td>2</td>\n",
       "      <td>1</td>\n",
       "      <td>...</td>\n",
       "      <td>0</td>\n",
       "      <td>0</td>\n",
       "      <td>1</td>\n",
       "      <td>0</td>\n",
       "      <td>0</td>\n",
       "      <td>0</td>\n",
       "      <td>0</td>\n",
       "      <td>1</td>\n",
       "      <td>0</td>\n",
       "      <td>181500</td>\n",
       "    </tr>\n",
       "    <tr>\n",
       "      <th>3</th>\n",
       "      <td>2</td>\n",
       "      <td>0</td>\n",
       "      <td>0</td>\n",
       "      <td>0</td>\n",
       "      <td>0</td>\n",
       "      <td>42</td>\n",
       "      <td>0</td>\n",
       "      <td>608</td>\n",
       "      <td>2</td>\n",
       "      <td>1</td>\n",
       "      <td>...</td>\n",
       "      <td>0</td>\n",
       "      <td>0</td>\n",
       "      <td>0</td>\n",
       "      <td>0</td>\n",
       "      <td>0</td>\n",
       "      <td>0</td>\n",
       "      <td>0</td>\n",
       "      <td>1</td>\n",
       "      <td>0</td>\n",
       "      <td>223500</td>\n",
       "    </tr>\n",
       "    <tr>\n",
       "      <th>4</th>\n",
       "      <td>1</td>\n",
       "      <td>0</td>\n",
       "      <td>0</td>\n",
       "      <td>0</td>\n",
       "      <td>272</td>\n",
       "      <td>35</td>\n",
       "      <td>0</td>\n",
       "      <td>642</td>\n",
       "      <td>3</td>\n",
       "      <td>1</td>\n",
       "      <td>...</td>\n",
       "      <td>0</td>\n",
       "      <td>0</td>\n",
       "      <td>0</td>\n",
       "      <td>1</td>\n",
       "      <td>0</td>\n",
       "      <td>0</td>\n",
       "      <td>0</td>\n",
       "      <td>0</td>\n",
       "      <td>0</td>\n",
       "      <td>140000</td>\n",
       "    </tr>\n",
       "    <tr>\n",
       "      <th>5</th>\n",
       "      <td>2</td>\n",
       "      <td>0</td>\n",
       "      <td>0</td>\n",
       "      <td>0</td>\n",
       "      <td>0</td>\n",
       "      <td>84</td>\n",
       "      <td>192</td>\n",
       "      <td>836</td>\n",
       "      <td>3</td>\n",
       "      <td>1</td>\n",
       "      <td>...</td>\n",
       "      <td>0</td>\n",
       "      <td>0</td>\n",
       "      <td>0</td>\n",
       "      <td>0</td>\n",
       "      <td>0</td>\n",
       "      <td>0</td>\n",
       "      <td>0</td>\n",
       "      <td>1</td>\n",
       "      <td>0</td>\n",
       "      <td>250000</td>\n",
       "    </tr>\n",
       "    <tr>\n",
       "      <th>...</th>\n",
       "      <td>...</td>\n",
       "      <td>...</td>\n",
       "      <td>...</td>\n",
       "      <td>...</td>\n",
       "      <td>...</td>\n",
       "      <td>...</td>\n",
       "      <td>...</td>\n",
       "      <td>...</td>\n",
       "      <td>...</td>\n",
       "      <td>...</td>\n",
       "      <td>...</td>\n",
       "      <td>...</td>\n",
       "      <td>...</td>\n",
       "      <td>...</td>\n",
       "      <td>...</td>\n",
       "      <td>...</td>\n",
       "      <td>...</td>\n",
       "      <td>...</td>\n",
       "      <td>...</td>\n",
       "      <td>...</td>\n",
       "      <td>...</td>\n",
       "    </tr>\n",
       "    <tr>\n",
       "      <th>1456</th>\n",
       "      <td>2</td>\n",
       "      <td>0</td>\n",
       "      <td>0</td>\n",
       "      <td>0</td>\n",
       "      <td>0</td>\n",
       "      <td>40</td>\n",
       "      <td>0</td>\n",
       "      <td>460</td>\n",
       "      <td>2</td>\n",
       "      <td>1</td>\n",
       "      <td>...</td>\n",
       "      <td>0</td>\n",
       "      <td>0</td>\n",
       "      <td>0</td>\n",
       "      <td>0</td>\n",
       "      <td>0</td>\n",
       "      <td>0</td>\n",
       "      <td>0</td>\n",
       "      <td>1</td>\n",
       "      <td>0</td>\n",
       "      <td>175000</td>\n",
       "    </tr>\n",
       "    <tr>\n",
       "      <th>1457</th>\n",
       "      <td>2</td>\n",
       "      <td>0</td>\n",
       "      <td>0</td>\n",
       "      <td>0</td>\n",
       "      <td>0</td>\n",
       "      <td>0</td>\n",
       "      <td>349</td>\n",
       "      <td>500</td>\n",
       "      <td>2</td>\n",
       "      <td>2</td>\n",
       "      <td>...</td>\n",
       "      <td>0</td>\n",
       "      <td>0</td>\n",
       "      <td>0</td>\n",
       "      <td>0</td>\n",
       "      <td>0</td>\n",
       "      <td>0</td>\n",
       "      <td>0</td>\n",
       "      <td>1</td>\n",
       "      <td>0</td>\n",
       "      <td>210000</td>\n",
       "    </tr>\n",
       "    <tr>\n",
       "      <th>1458</th>\n",
       "      <td>2</td>\n",
       "      <td>0</td>\n",
       "      <td>0</td>\n",
       "      <td>0</td>\n",
       "      <td>0</td>\n",
       "      <td>60</td>\n",
       "      <td>0</td>\n",
       "      <td>252</td>\n",
       "      <td>1</td>\n",
       "      <td>2</td>\n",
       "      <td>...</td>\n",
       "      <td>0</td>\n",
       "      <td>0</td>\n",
       "      <td>0</td>\n",
       "      <td>0</td>\n",
       "      <td>0</td>\n",
       "      <td>0</td>\n",
       "      <td>0</td>\n",
       "      <td>1</td>\n",
       "      <td>0</td>\n",
       "      <td>266500</td>\n",
       "    </tr>\n",
       "    <tr>\n",
       "      <th>1459</th>\n",
       "      <td>1</td>\n",
       "      <td>0</td>\n",
       "      <td>0</td>\n",
       "      <td>0</td>\n",
       "      <td>112</td>\n",
       "      <td>0</td>\n",
       "      <td>366</td>\n",
       "      <td>240</td>\n",
       "      <td>1</td>\n",
       "      <td>0</td>\n",
       "      <td>...</td>\n",
       "      <td>0</td>\n",
       "      <td>0</td>\n",
       "      <td>0</td>\n",
       "      <td>0</td>\n",
       "      <td>0</td>\n",
       "      <td>0</td>\n",
       "      <td>0</td>\n",
       "      <td>1</td>\n",
       "      <td>0</td>\n",
       "      <td>142125</td>\n",
       "    </tr>\n",
       "    <tr>\n",
       "      <th>1460</th>\n",
       "      <td>1</td>\n",
       "      <td>0</td>\n",
       "      <td>0</td>\n",
       "      <td>0</td>\n",
       "      <td>0</td>\n",
       "      <td>68</td>\n",
       "      <td>736</td>\n",
       "      <td>276</td>\n",
       "      <td>1</td>\n",
       "      <td>0</td>\n",
       "      <td>...</td>\n",
       "      <td>0</td>\n",
       "      <td>0</td>\n",
       "      <td>0</td>\n",
       "      <td>0</td>\n",
       "      <td>0</td>\n",
       "      <td>0</td>\n",
       "      <td>0</td>\n",
       "      <td>1</td>\n",
       "      <td>0</td>\n",
       "      <td>147500</td>\n",
       "    </tr>\n",
       "  </tbody>\n",
       "</table>\n",
       "<p>1460 rows × 202 columns</p>\n",
       "</div>"
      ],
      "text/plain": [
       "      FullBath  PoolArea  ScreenPorch  3SsnPorch  EnclosedPorch  OpenPorchSF  \\\n",
       "Id                                                                             \n",
       "1            2         0            0          0              0           61   \n",
       "2            2         0            0          0              0            0   \n",
       "3            2         0            0          0              0           42   \n",
       "4            1         0            0          0            272           35   \n",
       "5            2         0            0          0              0           84   \n",
       "...        ...       ...          ...        ...            ...          ...   \n",
       "1456         2         0            0          0              0           40   \n",
       "1457         2         0            0          0              0            0   \n",
       "1458         2         0            0          0              0           60   \n",
       "1459         1         0            0          0            112            0   \n",
       "1460         1         0            0          0              0           68   \n",
       "\n",
       "      WoodDeckSF  GarageArea  GarageCars  Fireplaces  ...  \\\n",
       "Id                                                    ...   \n",
       "1              0         548           2           0  ...   \n",
       "2            298         460           2           1  ...   \n",
       "3              0         608           2           1  ...   \n",
       "4              0         642           3           1  ...   \n",
       "5            192         836           3           1  ...   \n",
       "...          ...         ...         ...         ...  ...   \n",
       "1456           0         460           2           1  ...   \n",
       "1457         349         500           2           2  ...   \n",
       "1458           0         252           1           2  ...   \n",
       "1459         366         240           1           0  ...   \n",
       "1460         736         276           1           0  ...   \n",
       "\n",
       "      Neighborhood_StoneBr  Neighborhood_Timber  Neighborhood_Veenker  \\\n",
       "Id                                                                      \n",
       "1                        0                    0                     0   \n",
       "2                        0                    0                     1   \n",
       "3                        0                    0                     0   \n",
       "4                        0                    0                     0   \n",
       "5                        0                    0                     0   \n",
       "...                    ...                  ...                   ...   \n",
       "1456                     0                    0                     0   \n",
       "1457                     0                    0                     0   \n",
       "1458                     0                    0                     0   \n",
       "1459                     0                    0                     0   \n",
       "1460                     0                    0                     0   \n",
       "\n",
       "      SaleCondition_Abnorml  SaleCondition_AdjLand  SaleCondition_Alloca  \\\n",
       "Id                                                                         \n",
       "1                         0                      0                     0   \n",
       "2                         0                      0                     0   \n",
       "3                         0                      0                     0   \n",
       "4                         1                      0                     0   \n",
       "5                         0                      0                     0   \n",
       "...                     ...                    ...                   ...   \n",
       "1456                      0                      0                     0   \n",
       "1457                      0                      0                     0   \n",
       "1458                      0                      0                     0   \n",
       "1459                      0                      0                     0   \n",
       "1460                      0                      0                     0   \n",
       "\n",
       "      SaleCondition_Family  SaleCondition_Normal  SaleCondition_Partial  \\\n",
       "Id                                                                        \n",
       "1                        0                     1                      0   \n",
       "2                        0                     1                      0   \n",
       "3                        0                     1                      0   \n",
       "4                        0                     0                      0   \n",
       "5                        0                     1                      0   \n",
       "...                    ...                   ...                    ...   \n",
       "1456                     0                     1                      0   \n",
       "1457                     0                     1                      0   \n",
       "1458                     0                     1                      0   \n",
       "1459                     0                     1                      0   \n",
       "1460                     0                     1                      0   \n",
       "\n",
       "      SalePrice  \n",
       "Id               \n",
       "1        208500  \n",
       "2        181500  \n",
       "3        223500  \n",
       "4        140000  \n",
       "5        250000  \n",
       "...         ...  \n",
       "1456     175000  \n",
       "1457     210000  \n",
       "1458     266500  \n",
       "1459     142125  \n",
       "1460     147500  \n",
       "\n",
       "[1460 rows x 202 columns]"
      ]
     },
     "execution_count": 17,
     "metadata": {},
     "output_type": "execute_result"
    }
   ],
   "source": [
    "data_final"
   ]
  },
  {
   "cell_type": "code",
   "execution_count": 18,
   "id": "3b6569b2-c69a-468c-b8e0-87bfb963120d",
   "metadata": {},
   "outputs": [
    {
     "name": "stdout",
     "output_type": "stream",
     "text": [
      "['FullBath' 'PoolArea' 'ScreenPorch' '3SsnPorch' 'EnclosedPorch'\n",
      " 'OpenPorchSF' 'WoodDeckSF' 'GarageArea' 'GarageCars' 'Fireplaces'\n",
      " 'TotRmsAbvGrd' 'KitchenAbvGr' 'BedroomAbvGr' 'HalfBath' 'MiscVal'\n",
      " 'YrSold' 'BsmtFullBath' 'GrLivArea' 'LowQualFinSF' '2ndFlrSF' '1stFlrSF'\n",
      " 'TotalBsmtSF' 'BsmtUnfSF' 'BsmtFinSF2' 'BsmtFinSF1' 'YearRemodAdd'\n",
      " 'YearBuilt' 'LotArea' 'BsmtHalfBath' 'OverallQual' 'OverallCond'\n",
      " 'ExterQual' 'ExterCond' 'HeatingQC' 'KitchenQual' 'MoSold' 'MSSubClass'\n",
      " 'PavedDrive_N' 'PavedDrive_P' 'PavedDrive_Y' 'Functional_Maj1'\n",
      " 'Functional_Maj2' 'Functional_Min1' 'Functional_Min2' 'Functional_Mod'\n",
      " 'Functional_Sev' 'Functional_Typ' 'CentralAir_N' 'CentralAir_Y'\n",
      " 'Heating_Floor' 'Heating_GasA' 'Heating_GasW' 'Heating_Grav'\n",
      " 'Heating_OthW' 'Heating_Wall' 'Foundation_BrkTil' 'Foundation_CBlock'\n",
      " 'Foundation_PConc' 'Foundation_Slab' 'Foundation_Stone' 'Foundation_Wood'\n",
      " 'Exterior2nd_AsbShng' 'Exterior2nd_AsphShn' 'Exterior2nd_Brk Cmn'\n",
      " 'Exterior2nd_BrkFace' 'Exterior2nd_CBlock' 'Exterior2nd_CmentBd'\n",
      " 'Exterior2nd_HdBoard' 'Exterior2nd_ImStucc' 'Exterior2nd_MetalSd'\n",
      " 'Exterior2nd_Other' 'Exterior2nd_Plywood' 'Exterior2nd_Stone'\n",
      " 'Exterior2nd_Stucco' 'Exterior2nd_VinylSd' 'Exterior2nd_Wd Sdng'\n",
      " 'Exterior2nd_Wd Shng' 'Exterior1st_AsbShng' 'Exterior1st_AsphShn'\n",
      " 'Exterior1st_BrkComm' 'Exterior1st_BrkFace' 'Exterior1st_CBlock'\n",
      " 'Exterior1st_CemntBd' 'Exterior1st_HdBoard' 'Exterior1st_ImStucc'\n",
      " 'Exterior1st_MetalSd' 'Exterior1st_Plywood' 'Exterior1st_Stone'\n",
      " 'Exterior1st_Stucco' 'Exterior1st_VinylSd' 'Exterior1st_Wd Sdng'\n",
      " 'Exterior1st_WdShing' 'SaleType_COD' 'SaleType_CWD' 'SaleType_Con'\n",
      " 'SaleType_ConLD' 'SaleType_ConLI' 'SaleType_ConLw' 'SaleType_New'\n",
      " 'SaleType_Oth' 'SaleType_WD' 'RoofStyle_Flat' 'RoofStyle_Gable'\n",
      " 'RoofStyle_Gambrel' 'RoofStyle_Hip' 'RoofStyle_Mansard' 'RoofStyle_Shed'\n",
      " 'HouseStyle_1.5Fin' 'HouseStyle_1.5Unf' 'HouseStyle_1Story'\n",
      " 'HouseStyle_2.5Fin' 'HouseStyle_2.5Unf' 'HouseStyle_2Story'\n",
      " 'HouseStyle_SFoyer' 'HouseStyle_SLvl' 'BldgType_1Fam' 'BldgType_2fmCon'\n",
      " 'BldgType_Duplex' 'BldgType_Twnhs' 'BldgType_TwnhsE' 'RoofMatl_ClyTile'\n",
      " 'RoofMatl_CompShg' 'RoofMatl_Membran' 'RoofMatl_Metal' 'RoofMatl_Roll'\n",
      " 'RoofMatl_Tar&Grv' 'RoofMatl_WdShake' 'RoofMatl_WdShngl'\n",
      " 'Condition1_Artery' 'Condition1_Feedr' 'Condition1_Norm'\n",
      " 'Condition1_PosA' 'Condition1_PosN' 'Condition1_RRAe' 'Condition1_RRAn'\n",
      " 'Condition1_RRNe' 'Condition1_RRNn' 'MSZoning_C (all)' 'MSZoning_FV'\n",
      " 'MSZoning_RH' 'MSZoning_RL' 'MSZoning_RM' 'Street_Grvl' 'Street_Pave'\n",
      " 'Condition2_Artery' 'Condition2_Feedr' 'Condition2_Norm'\n",
      " 'Condition2_PosA' 'Condition2_PosN' 'Condition2_RRAe' 'Condition2_RRAn'\n",
      " 'Condition2_RRNn' 'LandContour_Bnk' 'LandContour_HLS' 'LandContour_Low'\n",
      " 'LandContour_Lvl' 'LotShape_IR1' 'LotShape_IR2' 'LotShape_IR3'\n",
      " 'LotShape_Reg' 'Utilities_AllPub' 'Utilities_NoSeWa' 'LotConfig_Corner'\n",
      " 'LotConfig_CulDSac' 'LotConfig_FR2' 'LotConfig_FR3' 'LotConfig_Inside'\n",
      " 'LandSlope_Gtl' 'LandSlope_Mod' 'LandSlope_Sev' 'Neighborhood_Blmngtn'\n",
      " 'Neighborhood_Blueste' 'Neighborhood_BrDale' 'Neighborhood_BrkSide'\n",
      " 'Neighborhood_ClearCr' 'Neighborhood_CollgCr' 'Neighborhood_Crawfor'\n",
      " 'Neighborhood_Edwards' 'Neighborhood_Gilbert' 'Neighborhood_IDOTRR'\n",
      " 'Neighborhood_MeadowV' 'Neighborhood_Mitchel' 'Neighborhood_NAmes'\n",
      " 'Neighborhood_NPkVill' 'Neighborhood_NWAmes' 'Neighborhood_NoRidge'\n",
      " 'Neighborhood_NridgHt' 'Neighborhood_OldTown' 'Neighborhood_SWISU'\n",
      " 'Neighborhood_Sawyer' 'Neighborhood_SawyerW' 'Neighborhood_Somerst'\n",
      " 'Neighborhood_StoneBr' 'Neighborhood_Timber' 'Neighborhood_Veenker'\n",
      " 'SaleCondition_Abnorml' 'SaleCondition_AdjLand' 'SaleCondition_Alloca'\n",
      " 'SaleCondition_Family' 'SaleCondition_Normal' 'SaleCondition_Partial']\n"
     ]
    }
   ],
   "source": [
    "print(x_data_final.columns.to_numpy())"
   ]
  },
  {
   "cell_type": "markdown",
   "id": "dacc5b25-2caa-48ee-9e15-d7aee051092f",
   "metadata": {},
   "source": [
    "# Model Training"
   ]
  },
  {
   "cell_type": "code",
   "execution_count": 19,
   "id": "b969b575-a6d1-404a-91a1-ae0512636b29",
   "metadata": {},
   "outputs": [],
   "source": [
    "features = x_data_final.columns.to_numpy()\n",
    "target = ['SalePrice']\n",
    "# Separating out the features\n",
    "x = data_final.loc[:, features]\n",
    "# Separating out the target\n",
    "y = data_final.loc[:, target]"
   ]
  },
  {
   "cell_type": "code",
   "execution_count": 20,
   "id": "307f4a61-bf49-4553-8d97-325f0b6c8d23",
   "metadata": {},
   "outputs": [],
   "source": [
    "x_train, x_test, y_train, y_test = train_test_split(\n",
    "    x, y, train_size=0.75, random_state=0)\n",
    "x_train_scaled = StandardScaler().fit_transform(x_train)\n",
    "x_test_scaled = StandardScaler().fit_transform(x_test)"
   ]
  },
  {
   "cell_type": "markdown",
   "id": "7e9baee1-7f54-40af-a701-f9e0de94b30e",
   "metadata": {},
   "source": [
    "## Linear Reression "
   ]
  },
  {
   "cell_type": "code",
   "execution_count": 21,
   "id": "30e35c1a-c748-4c2b-9135-b11c7e8f69b3",
   "metadata": {},
   "outputs": [
    {
     "data": {
      "text/plain": [
       "-1.719888548727512e+25"
      ]
     },
     "execution_count": 21,
     "metadata": {},
     "output_type": "execute_result"
    }
   ],
   "source": [
    "regr_s = linear_model.LinearRegression()\n",
    "regr_s.fit(x_train_scaled, y_train)\n",
    "regr_s.score(x_test_scaled, y_test)"
   ]
  },
  {
   "cell_type": "code",
   "execution_count": 22,
   "id": "83c262b3-bfc9-4683-ba1f-4132318e5535",
   "metadata": {},
   "outputs": [
    {
     "data": {
      "text/plain": [
       "0.616261980140865"
      ]
     },
     "execution_count": 22,
     "metadata": {},
     "output_type": "execute_result"
    }
   ],
   "source": [
    "regr_s = linear_model.LinearRegression()\n",
    "regr_s.fit(x_train, y_train)\n",
    "regr_s.score(x_test, y_test)"
   ]
  },
  {
   "cell_type": "code",
   "execution_count": null,
   "id": "b7eed307-e887-474b-9de1-598cd81d0b25",
   "metadata": {},
   "outputs": [],
   "source": []
  },
  {
   "cell_type": "markdown",
   "id": "9e3ffd48-a43e-4126-b669-fd89d8d3da12",
   "metadata": {},
   "source": [
    "## Regression ridge"
   ]
  },
  {
   "cell_type": "code",
   "execution_count": 23,
   "id": "9bb4fb72-23ec-4f1e-a25c-013086d0f30c",
   "metadata": {},
   "outputs": [],
   "source": [
    "lrr = Ridge(alpha=0.1, max_iter=10000)\n",
    "alphas = np.logspace(-6, 6, 200)"
   ]
  },
  {
   "cell_type": "code",
   "execution_count": 24,
   "id": "b969ca6d-fef8-4570-b2f0-7c88198209cd",
   "metadata": {},
   "outputs": [
    {
     "data": {
      "text/plain": [
       "0.7126494161356511"
      ]
     },
     "execution_count": 24,
     "metadata": {},
     "output_type": "execute_result"
    }
   ],
   "source": [
    "lrr.fit(x_train_scaled, y_train)\n",
    "lrr.score(x_test_scaled, y_test)"
   ]
  },
  {
   "cell_type": "code",
   "execution_count": 25,
   "id": "59fb5f55-cd14-4d09-9724-8f9a0dd33b63",
   "metadata": {},
   "outputs": [
    {
     "data": {
      "text/plain": [
       "0.6353298664557157"
      ]
     },
     "execution_count": 25,
     "metadata": {},
     "output_type": "execute_result"
    }
   ],
   "source": [
    "lrr.fit(x_train, y_train)\n",
    "lrr.score(x_test, y_test)"
   ]
  },
  {
   "cell_type": "markdown",
   "id": "9eae0ece-32c4-43e3-8a5e-ca6be35aa74f",
   "metadata": {},
   "source": [
    "## Regression Lasso"
   ]
  },
  {
   "cell_type": "code",
   "execution_count": 26,
   "id": "b7628be2-91fa-4fe3-858b-197ab09e87f7",
   "metadata": {},
   "outputs": [],
   "source": [
    "lrl = linear_model.Lasso(alpha=0.1, max_iter=10000)"
   ]
  },
  {
   "cell_type": "code",
   "execution_count": 27,
   "id": "2952def8-932d-40da-aae3-8c9c03f252c5",
   "metadata": {},
   "outputs": [
    {
     "name": "stderr",
     "output_type": "stream",
     "text": [
      "C:\\Users\\morgan\\Anaconda3\\lib\\site-packages\\sklearn\\linear_model\\_coordinate_descent.py:530: ConvergenceWarning: Objective did not converge. You might want to increase the number of iterations. Duality gap: 55881487415.374756, tolerance: 679805682.3059437\n",
      "  model = cd_fast.enet_coordinate_descent(\n"
     ]
    },
    {
     "data": {
      "text/plain": [
       "0.6458633306975448"
      ]
     },
     "execution_count": 27,
     "metadata": {},
     "output_type": "execute_result"
    }
   ],
   "source": [
    "lrl.fit(x_train, y_train)\n",
    "lrl.score(x_test, y_test)"
   ]
  },
  {
   "cell_type": "code",
   "execution_count": 28,
   "id": "e0660808-5ec5-4a35-bad3-a4c97fa474ce",
   "metadata": {},
   "outputs": [
    {
     "name": "stderr",
     "output_type": "stream",
     "text": [
      "C:\\Users\\morgan\\Anaconda3\\lib\\site-packages\\sklearn\\linear_model\\_coordinate_descent.py:530: ConvergenceWarning: Objective did not converge. You might want to increase the number of iterations. Duality gap: 19470575100.504395, tolerance: 679805682.3059437\n",
      "  model = cd_fast.enet_coordinate_descent(\n"
     ]
    },
    {
     "data": {
      "text/plain": [
       "0.7144178953519313"
      ]
     },
     "execution_count": 28,
     "metadata": {},
     "output_type": "execute_result"
    }
   ],
   "source": [
    "lrl.fit(x_train_scaled, y_train)\n",
    "lrl.score(x_test_scaled, y_test)"
   ]
  },
  {
   "cell_type": "markdown",
   "id": "87f2c34f-d2f5-4bed-9d20-9e8fbc8e5496",
   "metadata": {},
   "source": [
    "## KNN Regressor"
   ]
  },
  {
   "cell_type": "code",
   "execution_count": 29,
   "id": "53c63be7-3159-4819-8365-a08b614104e1",
   "metadata": {},
   "outputs": [
    {
     "data": {
      "text/plain": [
       "[<matplotlib.lines.Line2D at 0x1a40733e070>]"
      ]
     },
     "execution_count": 29,
     "metadata": {},
     "output_type": "execute_result"
    },
    {
     "data": {
      "image/png": "[encoded data removed]",
      "text/plain": [
       "<Figure size 2400x640 with 1 Axes>"
      ]
     },
     "metadata": {
      "needs_background": "light"
     },
     "output_type": "display_data"
    }
   ],
   "source": [
    "errors = []\n",
    "for k in range(2, 30):\n",
    "    knn = neighbors.KNeighborsRegressor(n_neighbors=k)\n",
    "    errors.append(100*((\n",
    "        knn.fit(x_train, y_train).score(x_test, y_test))))\n",
    "figure(figsize=(30, 8), dpi=80)\n",
    "plt.pyplot.plot(range(2, 30), errors, 'o-')"
   ]
  },
  {
   "cell_type": "code",
   "execution_count": 30,
   "id": "7c76c04e-157c-414f-a84f-1298c322ce7a",
   "metadata": {},
   "outputs": [
    {
     "data": {
      "text/plain": [
       "[<matplotlib.lines.Line2D at 0x1a4074115e0>]"
      ]
     },
     "execution_count": 30,
     "metadata": {},
     "output_type": "execute_result"
    },
    {
     "data": {
      "image/png": "[encoded data removed]",
      "text/plain": [
       "<Figure size 2400x640 with 1 Axes>"
      ]
     },
     "metadata": {
      "needs_background": "light"
     },
     "output_type": "display_data"
    }
   ],
   "source": [
    "errors = []\n",
    "for k in range(2, 30):\n",
    "    knn = neighbors.KNeighborsRegressor(n_neighbors=k)\n",
    "    errors.append(100*((\n",
    "        knn.fit(x_train_scaled, y_train).score(x_test_scaled, y_test))))\n",
    "figure(figsize=(30, 8), dpi=80)\n",
    "plt.pyplot.plot(range(2, 30), errors, 'o-')"
   ]
  },
  {
   "cell_type": "code",
   "execution_count": null,
   "id": "7cc36c22-8fbd-41cc-9959-883024d704aa",
   "metadata": {},
   "outputs": [],
   "source": []
  },
  {
   "cell_type": "markdown",
   "id": "e0ffa0e2-a110-4d5c-80f7-94f51d725f94",
   "metadata": {},
   "source": [
    "### Random Forrest Regressor "
   ]
  },
  {
   "cell_type": "code",
   "execution_count": 31,
   "id": "35ee5fd4-636c-465c-8f99-780f8e8dcc6d",
   "metadata": {},
   "outputs": [
    {
     "name": "stderr",
     "output_type": "stream",
     "text": [
      "<ipython-input-31-4efc97a55c20>:2: DataConversionWarning: A column-vector y was passed when a 1d array was expected. Please change the shape of y to (n_samples,), for example using ravel().\n",
      "  rdm.fit(x_train_scaled, y_train)\n"
     ]
    },
    {
     "data": {
      "text/plain": [
       "0.8606299724827378"
      ]
     },
     "execution_count": 31,
     "metadata": {},
     "output_type": "execute_result"
    }
   ],
   "source": [
    "rdm = RandomForestRegressor(n_estimators=10000)\n",
    "rdm.fit(x_train_scaled, y_train)\n",
    "rdm.score(x_test_scaled, y_test)"
   ]
  },
  {
   "cell_type": "code",
   "execution_count": 32,
   "id": "ff28679c-1fad-4096-891d-ce11069150d4",
   "metadata": {},
   "outputs": [
    {
     "name": "stderr",
     "output_type": "stream",
     "text": [
      "<ipython-input-32-4b9406f22822>:2: DataConversionWarning: A column-vector y was passed when a 1d array was expected. Please change the shape of y to (n_samples,), for example using ravel().\n",
      "  rdm.fit(x_train, y_train)\n"
     ]
    },
    {
     "data": {
      "text/plain": [
       "0.8634044498691644"
      ]
     },
     "execution_count": 32,
     "metadata": {},
     "output_type": "execute_result"
    }
   ],
   "source": [
    "rdm = RandomForestRegressor(n_estimators=10000)\n",
    "rdm.fit(x_train, y_train)\n",
    "rdm.score(x_test, y_test)"
   ]
  },
  {
   "cell_type": "markdown",
   "id": "64d6f5ad-4a0c-4651-bd75-8839d72a2c44",
   "metadata": {},
   "source": [
    "## SVR"
   ]
  },
  {
   "cell_type": "code",
   "execution_count": null,
   "id": "fcef35a9-b0cd-4c05-9460-27bd342ccf2e",
   "metadata": {},
   "outputs": [],
   "source": []
  },
  {
   "cell_type": "code",
   "execution_count": 33,
   "id": "5e6a3587-f355-4f4c-a041-95ea20c2d930",
   "metadata": {},
   "outputs": [
    {
     "name": "stderr",
     "output_type": "stream",
     "text": [
      "C:\\Users\\morgan\\Anaconda3\\lib\\site-packages\\sklearn\\utils\\validation.py:63: DataConversionWarning: A column-vector y was passed when a 1d array was expected. Please change the shape of y to (n_samples, ), for example using ravel().\n",
      "  return f(*args, **kwargs)\n"
     ]
    },
    {
     "data": {
      "text/plain": [
       "-0.05411987878946234"
      ]
     },
     "execution_count": 33,
     "metadata": {},
     "output_type": "execute_result"
    }
   ],
   "source": [
    "regr_SVR = SVR(C=1.0, epsilon=0.2)\n",
    "regr_SVR.fit(x_train_scaled, y_train)\n",
    "regr_SVR.score(x_test_scaled, y_test)"
   ]
  },
  {
   "cell_type": "code",
   "execution_count": 34,
   "id": "9ff8baf8-9947-4787-ae14-36603051f585",
   "metadata": {},
   "outputs": [
    {
     "name": "stderr",
     "output_type": "stream",
     "text": [
      "C:\\Users\\morgan\\Anaconda3\\lib\\site-packages\\sklearn\\utils\\validation.py:63: DataConversionWarning: A column-vector y was passed when a 1d array was expected. Please change the shape of y to (n_samples, ), for example using ravel().\n",
      "  return f(*args, **kwargs)\n"
     ]
    },
    {
     "data": {
      "text/plain": [
       "-0.054320481529529285"
      ]
     },
     "execution_count": 34,
     "metadata": {},
     "output_type": "execute_result"
    }
   ],
   "source": [
    "regr_SVR = SVR(C=1.0, epsilon=0.2)\n",
    "regr_SVR.fit(x_train, y_train)\n",
    "regr_SVR.score(x_test, y_test)"
   ]
  },
  {
   "cell_type": "markdown",
   "id": "3e5fcf8c-044e-45de-a19f-3fe800f12ddb",
   "metadata": {},
   "source": [
    "## GBoost"
   ]
  },
  {
   "cell_type": "code",
   "execution_count": 35,
   "id": "75b71ad3-6a05-4b8c-adcd-26c7547eaa5f",
   "metadata": {},
   "outputs": [
    {
     "name": "stderr",
     "output_type": "stream",
     "text": [
      "C:\\Users\\morgan\\Anaconda3\\lib\\site-packages\\sklearn\\utils\\validation.py:63: DataConversionWarning: A column-vector y was passed when a 1d array was expected. Please change the shape of y to (n_samples, ), for example using ravel().\n",
      "  return f(*args, **kwargs)\n"
     ]
    },
    {
     "data": {
      "text/plain": [
       "0.8669428986544013"
      ]
     },
     "execution_count": 35,
     "metadata": {},
     "output_type": "execute_result"
    }
   ],
   "source": [
    "est = GradientBoostingRegressor(\n",
    "    n_estimators=10000, learning_rate=0.1, max_depth=1, random_state=0)\n",
    "est.fit(x_train_scaled, y_train)\n",
    "est.score(x_test_scaled, y_test)"
   ]
  },
  {
   "cell_type": "code",
   "execution_count": 36,
   "id": "db1fce1a-c9c1-4912-839b-4cd718270d95",
   "metadata": {},
   "outputs": [
    {
     "name": "stderr",
     "output_type": "stream",
     "text": [
      "C:\\Users\\morgan\\Anaconda3\\lib\\site-packages\\sklearn\\utils\\validation.py:63: DataConversionWarning: A column-vector y was passed when a 1d array was expected. Please change the shape of y to (n_samples, ), for example using ravel().\n",
      "  return f(*args, **kwargs)\n"
     ]
    },
    {
     "data": {
      "text/plain": [
       "0.8634224541810251"
      ]
     },
     "execution_count": 36,
     "metadata": {},
     "output_type": "execute_result"
    }
   ],
   "source": [
    "est.fit(x_train, y_train)\n",
    "est.score(x_test, y_test)"
   ]
  },
  {
   "cell_type": "markdown",
   "id": "00e060fb-d1be-4dea-96d1-b749aa55510d",
   "metadata": {},
   "source": [
    "## SGD EGRESSO "
   ]
  },
  {
   "cell_type": "code",
   "execution_count": 37,
   "id": "35e59fc3-93f4-452a-8bdf-cb3dc12ab759",
   "metadata": {},
   "outputs": [
    {
     "name": "stderr",
     "output_type": "stream",
     "text": [
      "C:\\Users\\morgan\\Anaconda3\\lib\\site-packages\\sklearn\\utils\\validation.py:63: DataConversionWarning: A column-vector y was passed when a 1d array was expected. Please change the shape of y to (n_samples, ), for example using ravel().\n",
      "  return f(*args, **kwargs)\n"
     ]
    },
    {
     "data": {
      "text/plain": [
       "-1.525244854437012e+22"
      ]
     },
     "execution_count": 37,
     "metadata": {},
     "output_type": "execute_result"
    }
   ],
   "source": [
    "reg_sgd = SGDRegressor(max_iter=1000, tol=1e-3)\n",
    "reg_sgd.fit(x_train, y_train)\n",
    "reg_sgd.score(x_test, y_test)"
   ]
  },
  {
   "cell_type": "code",
   "execution_count": 38,
   "id": "45a5ebdd-6bac-4823-be20-a6cc01c75f4f",
   "metadata": {},
   "outputs": [
    {
     "name": "stderr",
     "output_type": "stream",
     "text": [
      "C:\\Users\\morgan\\Anaconda3\\lib\\site-packages\\sklearn\\utils\\validation.py:63: DataConversionWarning: A column-vector y was passed when a 1d array was expected. Please change the shape of y to (n_samples, ), for example using ravel().\n",
      "  return f(*args, **kwargs)\n"
     ]
    },
    {
     "data": {
      "text/plain": [
       "-33.73954476010852"
      ]
     },
     "execution_count": 38,
     "metadata": {},
     "output_type": "execute_result"
    }
   ],
   "source": [
    "reg_sgd.fit(x_train_scaled, y_train)\n",
    "reg_sgd.score(x_test_scaled, y_test)"
   ]
  },
  {
   "cell_type": "markdown",
   "id": "fb349556-7366-4f27-9e04-6aad1191a924",
   "metadata": {},
   "source": [
    "## MLP"
   ]
  },
  {
   "cell_type": "code",
   "execution_count": 39,
   "id": "5d6eac05-9c5f-4e5d-9865-2f165821674c",
   "metadata": {},
   "outputs": [
    {
     "name": "stderr",
     "output_type": "stream",
     "text": [
      "C:\\Users\\morgan\\Anaconda3\\lib\\site-packages\\sklearn\\utils\\validation.py:63: DataConversionWarning: A column-vector y was passed when a 1d array was expected. Please change the shape of y to (n_samples, ), for example using ravel().\n",
      "  return f(*args, **kwargs)\n",
      "C:\\Users\\morgan\\Anaconda3\\lib\\site-packages\\sklearn\\neural_network\\_multilayer_perceptron.py:614: ConvergenceWarning: Stochastic Optimizer: Maximum iterations (500) reached and the optimization hasn't converged yet.\n",
      "  warnings.warn(\n"
     ]
    },
    {
     "data": {
      "text/plain": [
       "-3.738601115322653"
      ]
     },
     "execution_count": 39,
     "metadata": {},
     "output_type": "execute_result"
    }
   ],
   "source": [
    "regr_mlp = MLPRegressor(random_state=1, max_iter=500)\n",
    "regr_mlp.fit(x_train_scaled, y_train)\n",
    "regr_mlp.score(x_test_scaled, y_test)"
   ]
  },
  {
   "cell_type": "code",
   "execution_count": 40,
   "id": "1201ec00-895c-4984-9c99-ea3902c27707",
   "metadata": {},
   "outputs": [
    {
     "name": "stderr",
     "output_type": "stream",
     "text": [
      "C:\\Users\\morgan\\Anaconda3\\lib\\site-packages\\sklearn\\utils\\validation.py:63: DataConversionWarning: A column-vector y was passed when a 1d array was expected. Please change the shape of y to (n_samples, ), for example using ravel().\n",
      "  return f(*args, **kwargs)\n",
      "C:\\Users\\morgan\\Anaconda3\\lib\\site-packages\\sklearn\\neural_network\\_multilayer_perceptron.py:614: ConvergenceWarning: Stochastic Optimizer: Maximum iterations (500) reached and the optimization hasn't converged yet.\n",
      "  warnings.warn(\n"
     ]
    },
    {
     "data": {
      "text/plain": [
       "0.5411978762786802"
      ]
     },
     "execution_count": 40,
     "metadata": {},
     "output_type": "execute_result"
    }
   ],
   "source": [
    "regr_mlp.fit(x_train, y_train)\n",
    "regr_mlp.score(x_test, y_test)"
   ]
  },
  {
   "cell_type": "code",
   "execution_count": null,
   "id": "092270de-c5b0-42e0-9cbd-8f770d0b025e",
   "metadata": {},
   "outputs": [],
   "source": []
  },
  {
   "cell_type": "markdown",
   "id": "9b02c189-becc-4e0f-a467-aa09d37253cc",
   "metadata": {},
   "source": [
    "### Grid Search"
   ]
  },
  {
   "cell_type": "code",
   "execution_count": 41,
   "id": "08ac6eda-c949-40bd-8132-60d9f7c41c50",
   "metadata": {},
   "outputs": [
    {
     "ename": "ValueError",
     "evalue": "too many values to unpack (expected 3)",
     "output_type": "error",
     "traceback": [
      "\u001b[1;31m---------------------------------------------------------------------------\u001b[0m",
      "\u001b[1;31mValueError\u001b[0m                                Traceback (most recent call last)",
      "\u001b[1;32m~\\AppData\\Roaming\\Python\\Python38\\site-packages\\pycodestyle_magic.py\u001b[0m in \u001b[0;36mauto_run_pycodestyle\u001b[1;34m(self, result)\u001b[0m\n\u001b[0;32m     44\u001b[0m \u001b[1;33m\u001b[0m\u001b[0m\n\u001b[0;32m     45\u001b[0m     \u001b[1;32mdef\u001b[0m \u001b[0mauto_run_pycodestyle\u001b[0m\u001b[1;33m(\u001b[0m\u001b[0mself\u001b[0m\u001b[1;33m,\u001b[0m \u001b[0mresult\u001b[0m\u001b[1;33m)\u001b[0m\u001b[1;33m:\u001b[0m\u001b[1;33m\u001b[0m\u001b[1;33m\u001b[0m\u001b[0m\n\u001b[1;32m---> 46\u001b[1;33m         \u001b[0mpycodestyle\u001b[0m\u001b[1;33m(\u001b[0m\u001b[1;36m1\u001b[0m\u001b[1;33m,\u001b[0m \u001b[0mresult\u001b[0m\u001b[1;33m.\u001b[0m\u001b[0minfo\u001b[0m\u001b[1;33m.\u001b[0m\u001b[0mraw_cell\u001b[0m\u001b[1;33m,\u001b[0m \u001b[0mauto\u001b[0m\u001b[1;33m=\u001b[0m\u001b[1;32mTrue\u001b[0m\u001b[1;33m)\u001b[0m\u001b[1;33m\u001b[0m\u001b[1;33m\u001b[0m\u001b[0m\n\u001b[0m\u001b[0;32m     47\u001b[0m         \u001b[1;32mif\u001b[0m \u001b[0mresult\u001b[0m\u001b[1;33m.\u001b[0m\u001b[0merror_before_exec\u001b[0m\u001b[1;33m:\u001b[0m\u001b[1;33m\u001b[0m\u001b[1;33m\u001b[0m\u001b[0m\n\u001b[0;32m     48\u001b[0m             \u001b[0mprint\u001b[0m\u001b[1;33m(\u001b[0m\u001b[1;34m'Error before execution: %s'\u001b[0m \u001b[1;33m%\u001b[0m \u001b[0mresult\u001b[0m\u001b[1;33m.\u001b[0m\u001b[0merror_before_exec\u001b[0m\u001b[1;33m)\u001b[0m\u001b[1;33m\u001b[0m\u001b[1;33m\u001b[0m\u001b[0m\n",
      "\u001b[1;32m~\\Anaconda3\\lib\\site-packages\\decorator.py\u001b[0m in \u001b[0;36mfun\u001b[1;34m(*args, **kw)\u001b[0m\n\u001b[0;32m    229\u001b[0m             \u001b[1;32mif\u001b[0m \u001b[1;32mnot\u001b[0m \u001b[0mkwsyntax\u001b[0m\u001b[1;33m:\u001b[0m\u001b[1;33m\u001b[0m\u001b[1;33m\u001b[0m\u001b[0m\n\u001b[0;32m    230\u001b[0m                 \u001b[0margs\u001b[0m\u001b[1;33m,\u001b[0m \u001b[0mkw\u001b[0m \u001b[1;33m=\u001b[0m \u001b[0mfix\u001b[0m\u001b[1;33m(\u001b[0m\u001b[0margs\u001b[0m\u001b[1;33m,\u001b[0m \u001b[0mkw\u001b[0m\u001b[1;33m,\u001b[0m \u001b[0msig\u001b[0m\u001b[1;33m)\u001b[0m\u001b[1;33m\u001b[0m\u001b[1;33m\u001b[0m\u001b[0m\n\u001b[1;32m--> 231\u001b[1;33m             \u001b[1;32mreturn\u001b[0m \u001b[0mcaller\u001b[0m\u001b[1;33m(\u001b[0m\u001b[0mfunc\u001b[0m\u001b[1;33m,\u001b[0m \u001b[1;33m*\u001b[0m\u001b[1;33m(\u001b[0m\u001b[0mextras\u001b[0m \u001b[1;33m+\u001b[0m \u001b[0margs\u001b[0m\u001b[1;33m)\u001b[0m\u001b[1;33m,\u001b[0m \u001b[1;33m**\u001b[0m\u001b[0mkw\u001b[0m\u001b[1;33m)\u001b[0m\u001b[1;33m\u001b[0m\u001b[1;33m\u001b[0m\u001b[0m\n\u001b[0m\u001b[0;32m    232\u001b[0m     \u001b[0mfun\u001b[0m\u001b[1;33m.\u001b[0m\u001b[0m__name__\u001b[0m \u001b[1;33m=\u001b[0m \u001b[0mfunc\u001b[0m\u001b[1;33m.\u001b[0m\u001b[0m__name__\u001b[0m\u001b[1;33m\u001b[0m\u001b[1;33m\u001b[0m\u001b[0m\n\u001b[0;32m    233\u001b[0m     \u001b[0mfun\u001b[0m\u001b[1;33m.\u001b[0m\u001b[0m__doc__\u001b[0m \u001b[1;33m=\u001b[0m \u001b[0mfunc\u001b[0m\u001b[1;33m.\u001b[0m\u001b[0m__doc__\u001b[0m\u001b[1;33m\u001b[0m\u001b[1;33m\u001b[0m\u001b[0m\n",
      "\u001b[1;32m~\\Anaconda3\\lib\\site-packages\\IPython\\core\\magic.py\u001b[0m in \u001b[0;36m<lambda>\u001b[1;34m(f, *a, **k)\u001b[0m\n\u001b[0;32m    218\u001b[0m     \u001b[1;31m# but it's overkill for just that one bit of state.\u001b[0m\u001b[1;33m\u001b[0m\u001b[1;33m\u001b[0m\u001b[1;33m\u001b[0m\u001b[0m\n\u001b[0;32m    219\u001b[0m     \u001b[1;32mdef\u001b[0m \u001b[0mmagic_deco\u001b[0m\u001b[1;33m(\u001b[0m\u001b[0marg\u001b[0m\u001b[1;33m)\u001b[0m\u001b[1;33m:\u001b[0m\u001b[1;33m\u001b[0m\u001b[1;33m\u001b[0m\u001b[0m\n\u001b[1;32m--> 220\u001b[1;33m         \u001b[0mcall\u001b[0m \u001b[1;33m=\u001b[0m \u001b[1;32mlambda\u001b[0m \u001b[0mf\u001b[0m\u001b[1;33m,\u001b[0m \u001b[1;33m*\u001b[0m\u001b[0ma\u001b[0m\u001b[1;33m,\u001b[0m \u001b[1;33m**\u001b[0m\u001b[0mk\u001b[0m\u001b[1;33m:\u001b[0m \u001b[0mf\u001b[0m\u001b[1;33m(\u001b[0m\u001b[1;33m*\u001b[0m\u001b[0ma\u001b[0m\u001b[1;33m,\u001b[0m \u001b[1;33m**\u001b[0m\u001b[0mk\u001b[0m\u001b[1;33m)\u001b[0m\u001b[1;33m\u001b[0m\u001b[1;33m\u001b[0m\u001b[0m\n\u001b[0m\u001b[0;32m    221\u001b[0m \u001b[1;33m\u001b[0m\u001b[0m\n\u001b[0;32m    222\u001b[0m         \u001b[1;31m# Find get_ipython() in the caller's namespace\u001b[0m\u001b[1;33m\u001b[0m\u001b[1;33m\u001b[0m\u001b[1;33m\u001b[0m\u001b[0m\n",
      "\u001b[1;32m~\\AppData\\Roaming\\Python\\Python38\\site-packages\\pycodestyle_magic.py\u001b[0m in \u001b[0;36mpycodestyle\u001b[1;34m(line, cell, auto)\u001b[0m\n\u001b[0;32m    173\u001b[0m         \u001b[1;31m#logger.info(line)\u001b[0m\u001b[1;33m\u001b[0m\u001b[1;33m\u001b[0m\u001b[1;33m\u001b[0m\u001b[0m\n\u001b[0;32m    174\u001b[0m         \u001b[1;31m# on windows drive path also contains :\u001b[0m\u001b[1;33m\u001b[0m\u001b[1;33m\u001b[0m\u001b[1;33m\u001b[0m\u001b[0m\n\u001b[1;32m--> 175\u001b[1;33m         \u001b[0mline\u001b[0m\u001b[1;33m,\u001b[0m \u001b[0mcol\u001b[0m\u001b[1;33m,\u001b[0m \u001b[0merror\u001b[0m \u001b[1;33m=\u001b[0m \u001b[0mline\u001b[0m\u001b[1;33m.\u001b[0m\u001b[0msplit\u001b[0m\u001b[1;33m(\u001b[0m\u001b[1;34m':'\u001b[0m\u001b[1;33m)\u001b[0m\u001b[1;33m[\u001b[0m\u001b[1;33m-\u001b[0m\u001b[1;36m4\u001b[0m\u001b[1;33m:\u001b[0m\u001b[1;33m]\u001b[0m\u001b[1;33m\u001b[0m\u001b[1;33m\u001b[0m\u001b[0m\n\u001b[0m\u001b[0;32m    176\u001b[0m         \u001b[1;31m# do not subtract 1 for line for %%pycodestyle, inc pre py3.6 string\u001b[0m\u001b[1;33m\u001b[0m\u001b[1;33m\u001b[0m\u001b[1;33m\u001b[0m\u001b[0m\n\u001b[0;32m    177\u001b[0m         \u001b[1;32mif\u001b[0m \u001b[0mauto\u001b[0m\u001b[1;33m:\u001b[0m\u001b[1;33m\u001b[0m\u001b[1;33m\u001b[0m\u001b[0m\n",
      "\u001b[1;31mValueError\u001b[0m: too many values to unpack (expected 3)"
     ]
    }
   ],
   "source": [
    "# Fixer les valeurs des hyperparamètres à tester\n",
    "parameters = {\n",
    "    \"learning_rate\":[\n",
    "        0.01, 0.025, 0.05, 0.075, 0.1, 0.15, 0.2],\n",
    "    \"min_samples_split\": np.linspace(0.1, 0.5, 12),\n",
    "    \"min_samples_leaf\": np.linspace(0.1, 0.5, 12),\n",
    "    \"max_depth\":[3,5,8],\n",
    "    \"max_features\":[\"log2\",\"sqrt\"],\n",
    "    \"criterion\": [\"friedman_mse\",  \"mae\"],\n",
    "    \"subsample\":[0.5, 0.618, 0.8, 0.85, 0.9, 0.95, 1.0],\n",
    "    \"n_estimators\":[10]\n",
    "    }\n",
    "# Choisir un score à optimiser, ici l'accuracy (proportion de prédictions correctes)\n",
    "score = 'r2'\n",
    "# Créer un regresseur forets aleatoires avec recherche d'hyperparamètre par validation croisée\n",
    "clf = model_selection.GridSearchCV(\n",
    "    ensemble.GradientBoostingRegressor(\n",
    "        random_state=0), # un regression forrets aléatoires\n",
    "    parameters,     # hyperparamètres à tester\n",
    "    cv=5,           # nombre de folds de validation croisée\n",
    "    scoring=score   # score à optimiser\n",
    ")"
   ]
  },
  {
   "cell_type": "code",
   "execution_count": null,
   "id": "15163a27-7533-4955-9553-a19eeecd5cc3",
   "metadata": {
    "tags": []
   },
   "outputs": [],
   "source": [
    "\n",
    "# Optimiser ce classifieur sur le jeu d'entraînement\n",
    "clf.fit(x_train , y_train.values.ravel())\n"
   ]
  },
  {
   "cell_type": "code",
   "execution_count": null,
   "id": "0eedfe30-ca06-4176-aa56-4a280fe9800c",
   "metadata": {},
   "outputs": [],
   "source": []
  },
  {
   "cell_type": "code",
   "execution_count": null,
   "id": "af76646a-9f20-4be7-8113-c6b6578f92c8",
   "metadata": {},
   "outputs": [],
   "source": [
    "# Afficher le(s) hyperparamètre(s) optimaux\n",
    "print(\"Meilleur(s) hyperparamètre(s) sur le jeu d'entraînement:\")\n",
    "print(clf.best_score_)\n",
    "print(clf.best_params_)"
   ]
  },
  {
   "cell_type": "code",
   "execution_count": 42,
   "id": "4a956a08-8a22-4256-90f7-baa3a53aa897",
   "metadata": {},
   "outputs": [
    {
     "data": {
      "text/plain": [
       "0.8926836702662162"
      ]
     },
     "execution_count": 42,
     "metadata": {},
     "output_type": "execute_result"
    }
   ],
   "source": [
    "regressor = GradientBoostingRegressor(n_estimators=6000)\n",
    "regressor.fit(x_train, y_train.values.ravel())\n",
    "regressor.score(x_test, y_test.values.ravel())"
   ]
  },
  {
   "cell_type": "code",
   "execution_count": 43,
   "id": "c5289fec-8184-430e-9fbd-7e78eadf3801",
   "metadata": {},
   "outputs": [
    {
     "data": {
      "text/plain": [
       "0.8922376646384926"
      ]
     },
     "execution_count": 43,
     "metadata": {},
     "output_type": "execute_result"
    }
   ],
   "source": [
    "regressor.fit(x_train_scaled, y_train.values.ravel())\n",
    "regressor.score(x_test_scaled, y_test.values.ravel())"
   ]
  },
  {
   "cell_type": "markdown",
   "id": "c7f9ca38-04e7-4ee6-87a4-7410efd29408",
   "metadata": {},
   "source": [
    "# Feature engineering"
   ]
  },
  {
   "cell_type": "code",
   "execution_count": null,
   "id": "7e462155-b517-4a27-83a8-e73ce9e2b268",
   "metadata": {},
   "outputs": [],
   "source": []
  },
  {
   "cell_type": "markdown",
   "id": "4c571a66-53d7-4373-9d58-e0a91d22d122",
   "metadata": {},
   "source": [
    "## spreads"
   ]
  },
  {
   "cell_type": "code",
   "execution_count": null,
   "id": "c30ffcd2-729c-4235-a2dc-b94984d43a70",
   "metadata": {},
   "outputs": [],
   "source": []
  },
  {
   "cell_type": "code",
   "execution_count": 44,
   "id": "a854dd20-aa0d-4a82-b565-b4dfbeb8f41c",
   "metadata": {},
   "outputs": [],
   "source": [
    "x_data_final['spread_YrSold_YearBuilt'] = (x_data_final['YrSold'] -\n",
    "                                           x_data_final['YearBuilt'])\n",
    "x_data_final['spread_YearRemodAdd_YearBuilt'] = (x_data_final['YearRemodAdd'] -\n",
    "                                                 x_data_final['YearBuilt'])\n",
    "x_data_final['spread_YrSold_YearRemodAdd'] = (x_data_final['YrSold'] -\n",
    "                                              x_data_final['YearRemodAdd'])"
   ]
  },
  {
   "cell_type": "markdown",
   "id": "91458226-6666-4c2d-8290-6820cb2351d5",
   "metadata": {},
   "source": [
    "## sums"
   ]
  },
  {
   "cell_type": "code",
   "execution_count": 45,
   "id": "84d58546-614e-46c5-8c38-a72ab947b31e",
   "metadata": {},
   "outputs": [],
   "source": [
    "x_data_final['sum_BsmtFinSF1_BsmtFinSF2'] = (x_data_final['BsmtFinSF1'] +\n",
    "                                             x_data_final['BsmtFinSF2'])\n",
    "x_data_final['sum_floor'] = (x_data_final['1stFlrSF'] +\n",
    "                             x_data_final['LowQualFinSF'])\n",
    "x_data_final['sum_BsmtFullBath_BsmtHalfBath'] = (x_data_final['BsmtFullBath'] +\n",
    "                                                 x_data_final['BsmtHalfBath'])\n",
    "x_data_final['sum_FullBath_HalfBath'] = (x_data_final['FullBath'] +\n",
    "                                         x_data_final['HalfBath'])\n",
    "x_data_final['TotBsmtBaths'] = (0 +\n",
    "                                x_data_final['sum_BsmtFullBath_BsmtHalfBath'] +\n",
    "                                x_data_final['sum_FullBath_HalfBath'])\n",
    "x_data_final['sum_WoodDeckSF_OpenPorchSF'] = (\n",
    "                                              x_data_final['WoodDeckSF'] +\n",
    "                                              x_data_final['OpenPorchSF'])\n",
    "\n",
    "x_data_final['sum_OCPORCH'] = (\n",
    "                                                 x_data_final['OpenPorchSF'] +\n",
    "                                                 x_data_final['EnclosedPorch'])\n",
    "x_data_final['sum_OpenPorchSF_EnclosedPorch'] = (\n",
    "                                                 x_data_final['OpenPorchSF'] +\n",
    "                                                 x_data_final['EnclosedPorch'])"
   ]
  },
  {
   "cell_type": "code",
   "execution_count": 46,
   "id": "6cef31cb-fb0e-48dc-9947-880f69a5387e",
   "metadata": {},
   "outputs": [],
   "source": [
    "x_data_final['TotAllTypePORCH'] = (x_data_final['OpenPorchSF'] +\n",
    "                                   x_data_final['EnclosedPorch'] +\n",
    "                                   x_data_final['3SsnPorch'] +\n",
    "                                   x_data_final['ScreenPorch'])"
   ]
  },
  {
   "cell_type": "markdown",
   "id": "795d324c-ea8f-4238-8bd5-ca8cc2595757",
   "metadata": {},
   "source": [
    "## ,percent"
   ]
  },
  {
   "cell_type": "code",
   "execution_count": 47,
   "id": "8b9d5352-1533-4b96-b013-277e6a3e995b",
   "metadata": {},
   "outputs": [],
   "source": [
    "x_data_final['%_BsmtFinSF1_TotalBsmtSF'] = (x_data_final['BsmtFinSF1'] /\n",
    "                                            x_data_final['TotalBsmtSF'])\n",
    "x_data_final['%_BsmtFinSF2_TotalBsmtSF'] = (x_data_final['BsmtFinSF2'] /\n",
    "                                            x_data_final['TotalBsmtSF'])\n",
    "x_data_final['%_BsmtUnfSF_TotalBsmtSF'] = (x_data_final['BsmtUnfSF'] /\n",
    "                                           x_data_final['TotalBsmtSF'])\n",
    "x_data_final['%_TotalBsmtSF_LotArea'] = (x_data_final['TotalBsmtSF'] /\n",
    "                                         x_data_final['LotArea'])\n",
    "x_data_final['%_GrLivArea_LotArea'] = (x_data_final['GrLivArea'] /\n",
    "                                       x_data_final['LotArea'])\n",
    "x_data_final['%_Bedroom_TotRms'] = (\n",
    "                                    x_data_final['BedroomAbvGr'] /\n",
    "                                    x_data_final['TotRmsAbvGrd'])\n",
    "x_data_final['%_KitchenAbvGr_TotRmsAbvGrd'] = (\n",
    "                                               x_data_final['KitchenAbvGr'] /\n",
    "                                               x_data_final['TotRmsAbvGrd'])\n",
    "x_data_final['%_KitchenAbvGr_BedroomAbvGr'] = (\n",
    "                                               x_data_final['KitchenAbvGr'] /\n",
    "                                               x_data_final['BedroomAbvGr'])\n",
    "x_data_final['%_LowQualFinSF_sum_1stFlrSF'] = (\n",
    "                                               x_data_final['LowQualFinSF'] /\n",
    "                                               x_data_final['1stFlrSF'])\n",
    "x_data_final['%_Fireplaces_TotRms'] = (\n",
    "                                       x_data_final['Fireplaces'] /\n",
    "                                       x_data_final['TotRmsAbvGrd'])\n",
    "x_data_final['%_OpenPorch_TotAllTypePORCH'] = (\n",
    "                                               x_data_final['OpenPorchSF'] /\n",
    "                                               x_data_final['TotAllTypePORCH'])\n",
    "x_data_final['%_EnclosedP_TotAllTypePORCH'] = (\n",
    "                                               x_data_final['EnclosedPorch'] /\n",
    "                                               x_data_final['TotAllTypePORCH'])\n",
    "x_data_final['%_3SsnPorch_TotAllTypePORCH'] = (\n",
    "                                               x_data_final['3SsnPorch'] /\n",
    "                                               x_data_final['TotAllTypePORCH'])\n",
    "x_data_final['%_ScreenPo_TotAllTypePORCH'] = (\n",
    "                                              x_data_final['ScreenPorch'] /\n",
    "                                              x_data_final['TotAllTypePORCH'])\n",
    "x_data_final['%_GrLivArea_sum_1stFlr_LowQualFi'] = (\n",
    "                                                    x_data_final['GrLivArea'] /\n",
    "                                                    x_data_final['sum_floor'])\n",
    "x_data_final['%_OpenPorchSF_sum_OCPORCH'] = (\n",
    "                                             x_data_final['OpenPorchSF'] /\n",
    "                                             x_data_final['sum_OCPORCH'])\n",
    "x_data_final['%_EnclosedPorch_sum_OCPORCH'] = (\n",
    "                                               x_data_final['EnclosedPorch'] /\n",
    "                                               x_data_final['sum_OCPORCH'])\n",
    "x_data_final['%_3SsnPorch_sum_sum_OCPORCH'] = (\n",
    "                                               x_data_final['3SsnPorch'] /\n",
    "                                               x_data_final['sum_OCPORCH'])\n",
    "x_data_final['%_ScreenPorch_sum_sum_OCPORCH'] = (\n",
    "                                                 x_data_final['ScreenPorch'] /\n",
    "                                                 x_data_final['sum_OCPORCH'])"
   ]
  },
  {
   "cell_type": "code",
   "execution_count": null,
   "id": "4657ffad-152a-4ee8-9134-3d8d891b13be",
   "metadata": {},
   "outputs": [],
   "source": [
    "\n"
   ]
  },
  {
   "cell_type": "code",
   "execution_count": 48,
   "id": "722f01d4-f59f-4a57-9e6d-d3f9f98fbfbb",
   "metadata": {},
   "outputs": [
    {
     "data": {
      "text/html": [
       "<div>\n",
       "<style scoped>\n",
       "    .dataframe tbody tr th:only-of-type {\n",
       "        vertical-align: middle;\n",
       "    }\n",
       "\n",
       "    .dataframe tbody tr th {\n",
       "        vertical-align: top;\n",
       "    }\n",
       "\n",
       "    .dataframe thead th {\n",
       "        text-align: right;\n",
       "    }\n",
       "</style>\n",
       "<table border=\"1\" class=\"dataframe\">\n",
       "  <thead>\n",
       "    <tr style=\"text-align: right;\">\n",
       "      <th></th>\n",
       "      <th>FullBath</th>\n",
       "      <th>PoolArea</th>\n",
       "      <th>ScreenPorch</th>\n",
       "      <th>3SsnPorch</th>\n",
       "      <th>EnclosedPorch</th>\n",
       "      <th>OpenPorchSF</th>\n",
       "      <th>WoodDeckSF</th>\n",
       "      <th>GarageArea</th>\n",
       "      <th>GarageCars</th>\n",
       "      <th>Fireplaces</th>\n",
       "      <th>...</th>\n",
       "      <th>%_Fireplaces_TotRms</th>\n",
       "      <th>%_OpenPorch_TotAllTypePORCH</th>\n",
       "      <th>%_EnclosedP_TotAllTypePORCH</th>\n",
       "      <th>%_3SsnPorch_TotAllTypePORCH</th>\n",
       "      <th>%_ScreenPo_TotAllTypePORCH</th>\n",
       "      <th>%_GrLivArea_sum_1stFlr_LowQualFi</th>\n",
       "      <th>%_OpenPorchSF_sum_OCPORCH</th>\n",
       "      <th>%_EnclosedPorch_sum_OCPORCH</th>\n",
       "      <th>%_3SsnPorch_sum_sum_OCPORCH</th>\n",
       "      <th>%_ScreenPorch_sum_sum_OCPORCH</th>\n",
       "    </tr>\n",
       "    <tr>\n",
       "      <th>Id</th>\n",
       "      <th></th>\n",
       "      <th></th>\n",
       "      <th></th>\n",
       "      <th></th>\n",
       "      <th></th>\n",
       "      <th></th>\n",
       "      <th></th>\n",
       "      <th></th>\n",
       "      <th></th>\n",
       "      <th></th>\n",
       "      <th></th>\n",
       "      <th></th>\n",
       "      <th></th>\n",
       "      <th></th>\n",
       "      <th></th>\n",
       "      <th></th>\n",
       "      <th></th>\n",
       "      <th></th>\n",
       "      <th></th>\n",
       "      <th></th>\n",
       "      <th></th>\n",
       "    </tr>\n",
       "  </thead>\n",
       "  <tbody>\n",
       "    <tr>\n",
       "      <th>1</th>\n",
       "      <td>2</td>\n",
       "      <td>0</td>\n",
       "      <td>0</td>\n",
       "      <td>0</td>\n",
       "      <td>0</td>\n",
       "      <td>61</td>\n",
       "      <td>0</td>\n",
       "      <td>548</td>\n",
       "      <td>2</td>\n",
       "      <td>0</td>\n",
       "      <td>...</td>\n",
       "      <td>0.000000</td>\n",
       "      <td>1.000000</td>\n",
       "      <td>0.000000</td>\n",
       "      <td>0.0</td>\n",
       "      <td>0.0</td>\n",
       "      <td>1.997664</td>\n",
       "      <td>1.000000</td>\n",
       "      <td>0.000000</td>\n",
       "      <td>0.0</td>\n",
       "      <td>0.0</td>\n",
       "    </tr>\n",
       "    <tr>\n",
       "      <th>2</th>\n",
       "      <td>2</td>\n",
       "      <td>0</td>\n",
       "      <td>0</td>\n",
       "      <td>0</td>\n",
       "      <td>0</td>\n",
       "      <td>0</td>\n",
       "      <td>298</td>\n",
       "      <td>460</td>\n",
       "      <td>2</td>\n",
       "      <td>1</td>\n",
       "      <td>...</td>\n",
       "      <td>0.166667</td>\n",
       "      <td>NaN</td>\n",
       "      <td>NaN</td>\n",
       "      <td>NaN</td>\n",
       "      <td>NaN</td>\n",
       "      <td>1.000000</td>\n",
       "      <td>NaN</td>\n",
       "      <td>NaN</td>\n",
       "      <td>NaN</td>\n",
       "      <td>NaN</td>\n",
       "    </tr>\n",
       "    <tr>\n",
       "      <th>3</th>\n",
       "      <td>2</td>\n",
       "      <td>0</td>\n",
       "      <td>0</td>\n",
       "      <td>0</td>\n",
       "      <td>0</td>\n",
       "      <td>42</td>\n",
       "      <td>0</td>\n",
       "      <td>608</td>\n",
       "      <td>2</td>\n",
       "      <td>1</td>\n",
       "      <td>...</td>\n",
       "      <td>0.166667</td>\n",
       "      <td>1.000000</td>\n",
       "      <td>0.000000</td>\n",
       "      <td>0.0</td>\n",
       "      <td>0.0</td>\n",
       "      <td>1.941304</td>\n",
       "      <td>1.000000</td>\n",
       "      <td>0.000000</td>\n",
       "      <td>0.0</td>\n",
       "      <td>0.0</td>\n",
       "    </tr>\n",
       "    <tr>\n",
       "      <th>4</th>\n",
       "      <td>1</td>\n",
       "      <td>0</td>\n",
       "      <td>0</td>\n",
       "      <td>0</td>\n",
       "      <td>272</td>\n",
       "      <td>35</td>\n",
       "      <td>0</td>\n",
       "      <td>642</td>\n",
       "      <td>3</td>\n",
       "      <td>1</td>\n",
       "      <td>...</td>\n",
       "      <td>0.142857</td>\n",
       "      <td>0.114007</td>\n",
       "      <td>0.885993</td>\n",
       "      <td>0.0</td>\n",
       "      <td>0.0</td>\n",
       "      <td>1.786681</td>\n",
       "      <td>0.114007</td>\n",
       "      <td>0.885993</td>\n",
       "      <td>0.0</td>\n",
       "      <td>0.0</td>\n",
       "    </tr>\n",
       "    <tr>\n",
       "      <th>5</th>\n",
       "      <td>2</td>\n",
       "      <td>0</td>\n",
       "      <td>0</td>\n",
       "      <td>0</td>\n",
       "      <td>0</td>\n",
       "      <td>84</td>\n",
       "      <td>192</td>\n",
       "      <td>836</td>\n",
       "      <td>3</td>\n",
       "      <td>1</td>\n",
       "      <td>...</td>\n",
       "      <td>0.111111</td>\n",
       "      <td>1.000000</td>\n",
       "      <td>0.000000</td>\n",
       "      <td>0.0</td>\n",
       "      <td>0.0</td>\n",
       "      <td>1.919651</td>\n",
       "      <td>1.000000</td>\n",
       "      <td>0.000000</td>\n",
       "      <td>0.0</td>\n",
       "      <td>0.0</td>\n",
       "    </tr>\n",
       "    <tr>\n",
       "      <th>...</th>\n",
       "      <td>...</td>\n",
       "      <td>...</td>\n",
       "      <td>...</td>\n",
       "      <td>...</td>\n",
       "      <td>...</td>\n",
       "      <td>...</td>\n",
       "      <td>...</td>\n",
       "      <td>...</td>\n",
       "      <td>...</td>\n",
       "      <td>...</td>\n",
       "      <td>...</td>\n",
       "      <td>...</td>\n",
       "      <td>...</td>\n",
       "      <td>...</td>\n",
       "      <td>...</td>\n",
       "      <td>...</td>\n",
       "      <td>...</td>\n",
       "      <td>...</td>\n",
       "      <td>...</td>\n",
       "      <td>...</td>\n",
       "      <td>...</td>\n",
       "    </tr>\n",
       "    <tr>\n",
       "      <th>1456</th>\n",
       "      <td>2</td>\n",
       "      <td>0</td>\n",
       "      <td>0</td>\n",
       "      <td>0</td>\n",
       "      <td>0</td>\n",
       "      <td>40</td>\n",
       "      <td>0</td>\n",
       "      <td>460</td>\n",
       "      <td>2</td>\n",
       "      <td>1</td>\n",
       "      <td>...</td>\n",
       "      <td>0.142857</td>\n",
       "      <td>1.000000</td>\n",
       "      <td>0.000000</td>\n",
       "      <td>0.0</td>\n",
       "      <td>0.0</td>\n",
       "      <td>1.728227</td>\n",
       "      <td>1.000000</td>\n",
       "      <td>0.000000</td>\n",
       "      <td>0.0</td>\n",
       "      <td>0.0</td>\n",
       "    </tr>\n",
       "    <tr>\n",
       "      <th>1457</th>\n",
       "      <td>2</td>\n",
       "      <td>0</td>\n",
       "      <td>0</td>\n",
       "      <td>0</td>\n",
       "      <td>0</td>\n",
       "      <td>0</td>\n",
       "      <td>349</td>\n",
       "      <td>500</td>\n",
       "      <td>2</td>\n",
       "      <td>2</td>\n",
       "      <td>...</td>\n",
       "      <td>0.285714</td>\n",
       "      <td>NaN</td>\n",
       "      <td>NaN</td>\n",
       "      <td>NaN</td>\n",
       "      <td>NaN</td>\n",
       "      <td>1.000000</td>\n",
       "      <td>NaN</td>\n",
       "      <td>NaN</td>\n",
       "      <td>NaN</td>\n",
       "      <td>NaN</td>\n",
       "    </tr>\n",
       "    <tr>\n",
       "      <th>1458</th>\n",
       "      <td>2</td>\n",
       "      <td>0</td>\n",
       "      <td>0</td>\n",
       "      <td>0</td>\n",
       "      <td>0</td>\n",
       "      <td>60</td>\n",
       "      <td>0</td>\n",
       "      <td>252</td>\n",
       "      <td>1</td>\n",
       "      <td>2</td>\n",
       "      <td>...</td>\n",
       "      <td>0.222222</td>\n",
       "      <td>1.000000</td>\n",
       "      <td>0.000000</td>\n",
       "      <td>0.0</td>\n",
       "      <td>0.0</td>\n",
       "      <td>1.969697</td>\n",
       "      <td>1.000000</td>\n",
       "      <td>0.000000</td>\n",
       "      <td>0.0</td>\n",
       "      <td>0.0</td>\n",
       "    </tr>\n",
       "    <tr>\n",
       "      <th>1459</th>\n",
       "      <td>1</td>\n",
       "      <td>0</td>\n",
       "      <td>0</td>\n",
       "      <td>0</td>\n",
       "      <td>112</td>\n",
       "      <td>0</td>\n",
       "      <td>366</td>\n",
       "      <td>240</td>\n",
       "      <td>1</td>\n",
       "      <td>0</td>\n",
       "      <td>...</td>\n",
       "      <td>0.000000</td>\n",
       "      <td>0.000000</td>\n",
       "      <td>1.000000</td>\n",
       "      <td>0.0</td>\n",
       "      <td>0.0</td>\n",
       "      <td>1.000000</td>\n",
       "      <td>0.000000</td>\n",
       "      <td>1.000000</td>\n",
       "      <td>0.0</td>\n",
       "      <td>0.0</td>\n",
       "    </tr>\n",
       "    <tr>\n",
       "      <th>1460</th>\n",
       "      <td>1</td>\n",
       "      <td>0</td>\n",
       "      <td>0</td>\n",
       "      <td>0</td>\n",
       "      <td>0</td>\n",
       "      <td>68</td>\n",
       "      <td>736</td>\n",
       "      <td>276</td>\n",
       "      <td>1</td>\n",
       "      <td>0</td>\n",
       "      <td>...</td>\n",
       "      <td>0.000000</td>\n",
       "      <td>1.000000</td>\n",
       "      <td>0.000000</td>\n",
       "      <td>0.0</td>\n",
       "      <td>0.0</td>\n",
       "      <td>1.000000</td>\n",
       "      <td>1.000000</td>\n",
       "      <td>0.000000</td>\n",
       "      <td>0.0</td>\n",
       "      <td>0.0</td>\n",
       "    </tr>\n",
       "  </tbody>\n",
       "</table>\n",
       "<p>1460 rows × 232 columns</p>\n",
       "</div>"
      ],
      "text/plain": [
       "      FullBath  PoolArea  ScreenPorch  3SsnPorch  EnclosedPorch  OpenPorchSF  \\\n",
       "Id                                                                             \n",
       "1            2         0            0          0              0           61   \n",
       "2            2         0            0          0              0            0   \n",
       "3            2         0            0          0              0           42   \n",
       "4            1         0            0          0            272           35   \n",
       "5            2         0            0          0              0           84   \n",
       "...        ...       ...          ...        ...            ...          ...   \n",
       "1456         2         0            0          0              0           40   \n",
       "1457         2         0            0          0              0            0   \n",
       "1458         2         0            0          0              0           60   \n",
       "1459         1         0            0          0            112            0   \n",
       "1460         1         0            0          0              0           68   \n",
       "\n",
       "      WoodDeckSF  GarageArea  GarageCars  Fireplaces  ...  \\\n",
       "Id                                                    ...   \n",
       "1              0         548           2           0  ...   \n",
       "2            298         460           2           1  ...   \n",
       "3              0         608           2           1  ...   \n",
       "4              0         642           3           1  ...   \n",
       "5            192         836           3           1  ...   \n",
       "...          ...         ...         ...         ...  ...   \n",
       "1456           0         460           2           1  ...   \n",
       "1457         349         500           2           2  ...   \n",
       "1458           0         252           1           2  ...   \n",
       "1459         366         240           1           0  ...   \n",
       "1460         736         276           1           0  ...   \n",
       "\n",
       "      %_Fireplaces_TotRms  %_OpenPorch_TotAllTypePORCH  \\\n",
       "Id                                                       \n",
       "1                0.000000                     1.000000   \n",
       "2                0.166667                          NaN   \n",
       "3                0.166667                     1.000000   \n",
       "4                0.142857                     0.114007   \n",
       "5                0.111111                     1.000000   \n",
       "...                   ...                          ...   \n",
       "1456             0.142857                     1.000000   \n",
       "1457             0.285714                          NaN   \n",
       "1458             0.222222                     1.000000   \n",
       "1459             0.000000                     0.000000   \n",
       "1460             0.000000                     1.000000   \n",
       "\n",
       "      %_EnclosedP_TotAllTypePORCH  %_3SsnPorch_TotAllTypePORCH  \\\n",
       "Id                                                               \n",
       "1                        0.000000                          0.0   \n",
       "2                             NaN                          NaN   \n",
       "3                        0.000000                          0.0   \n",
       "4                        0.885993                          0.0   \n",
       "5                        0.000000                          0.0   \n",
       "...                           ...                          ...   \n",
       "1456                     0.000000                          0.0   \n",
       "1457                          NaN                          NaN   \n",
       "1458                     0.000000                          0.0   \n",
       "1459                     1.000000                          0.0   \n",
       "1460                     0.000000                          0.0   \n",
       "\n",
       "      %_ScreenPo_TotAllTypePORCH  %_GrLivArea_sum_1stFlr_LowQualFi  \\\n",
       "Id                                                                   \n",
       "1                            0.0                          1.997664   \n",
       "2                            NaN                          1.000000   \n",
       "3                            0.0                          1.941304   \n",
       "4                            0.0                          1.786681   \n",
       "5                            0.0                          1.919651   \n",
       "...                          ...                               ...   \n",
       "1456                         0.0                          1.728227   \n",
       "1457                         NaN                          1.000000   \n",
       "1458                         0.0                          1.969697   \n",
       "1459                         0.0                          1.000000   \n",
       "1460                         0.0                          1.000000   \n",
       "\n",
       "      %_OpenPorchSF_sum_OCPORCH  %_EnclosedPorch_sum_OCPORCH  \\\n",
       "Id                                                             \n",
       "1                      1.000000                     0.000000   \n",
       "2                           NaN                          NaN   \n",
       "3                      1.000000                     0.000000   \n",
       "4                      0.114007                     0.885993   \n",
       "5                      1.000000                     0.000000   \n",
       "...                         ...                          ...   \n",
       "1456                   1.000000                     0.000000   \n",
       "1457                        NaN                          NaN   \n",
       "1458                   1.000000                     0.000000   \n",
       "1459                   0.000000                     1.000000   \n",
       "1460                   1.000000                     0.000000   \n",
       "\n",
       "      %_3SsnPorch_sum_sum_OCPORCH  %_ScreenPorch_sum_sum_OCPORCH  \n",
       "Id                                                                \n",
       "1                             0.0                            0.0  \n",
       "2                             NaN                            NaN  \n",
       "3                             0.0                            0.0  \n",
       "4                             0.0                            0.0  \n",
       "5                             0.0                            0.0  \n",
       "...                           ...                            ...  \n",
       "1456                          0.0                            0.0  \n",
       "1457                          NaN                            NaN  \n",
       "1458                          0.0                            0.0  \n",
       "1459                          0.0                            0.0  \n",
       "1460                          0.0                            0.0  \n",
       "\n",
       "[1460 rows x 232 columns]"
      ]
     },
     "execution_count": 48,
     "metadata": {},
     "output_type": "execute_result"
    }
   ],
   "source": [
    "x_data_final"
   ]
  },
  {
   "cell_type": "code",
   "execution_count": 49,
   "id": "f6c56019-8368-4113-bc35-52425f0e0911",
   "metadata": {},
   "outputs": [
    {
     "data": {
      "text/html": [
       "<div>\n",
       "<style scoped>\n",
       "    .dataframe tbody tr th:only-of-type {\n",
       "        vertical-align: middle;\n",
       "    }\n",
       "\n",
       "    .dataframe tbody tr th {\n",
       "        vertical-align: top;\n",
       "    }\n",
       "\n",
       "    .dataframe thead th {\n",
       "        text-align: right;\n",
       "    }\n",
       "</style>\n",
       "<table border=\"1\" class=\"dataframe\">\n",
       "  <thead>\n",
       "    <tr style=\"text-align: right;\">\n",
       "      <th></th>\n",
       "      <th>FullBath</th>\n",
       "      <th>PoolArea</th>\n",
       "      <th>ScreenPorch</th>\n",
       "      <th>3SsnPorch</th>\n",
       "      <th>EnclosedPorch</th>\n",
       "      <th>OpenPorchSF</th>\n",
       "      <th>WoodDeckSF</th>\n",
       "      <th>GarageArea</th>\n",
       "      <th>GarageCars</th>\n",
       "      <th>Fireplaces</th>\n",
       "      <th>...</th>\n",
       "      <th>%_Fireplaces_TotRms</th>\n",
       "      <th>%_OpenPorch_TotAllTypePORCH</th>\n",
       "      <th>%_EnclosedP_TotAllTypePORCH</th>\n",
       "      <th>%_3SsnPorch_TotAllTypePORCH</th>\n",
       "      <th>%_ScreenPo_TotAllTypePORCH</th>\n",
       "      <th>%_GrLivArea_sum_1stFlr_LowQualFi</th>\n",
       "      <th>%_OpenPorchSF_sum_OCPORCH</th>\n",
       "      <th>%_EnclosedPorch_sum_OCPORCH</th>\n",
       "      <th>%_3SsnPorch_sum_sum_OCPORCH</th>\n",
       "      <th>%_ScreenPorch_sum_sum_OCPORCH</th>\n",
       "    </tr>\n",
       "  </thead>\n",
       "  <tbody>\n",
       "    <tr>\n",
       "      <th>count</th>\n",
       "      <td>1460.000000</td>\n",
       "      <td>1460.000000</td>\n",
       "      <td>1460.000000</td>\n",
       "      <td>1460.000000</td>\n",
       "      <td>1460.000000</td>\n",
       "      <td>1460.000000</td>\n",
       "      <td>1460.000000</td>\n",
       "      <td>1460.000000</td>\n",
       "      <td>1460.000000</td>\n",
       "      <td>1460.000000</td>\n",
       "      <td>...</td>\n",
       "      <td>1460.000000</td>\n",
       "      <td>1460.000000</td>\n",
       "      <td>1460.000000</td>\n",
       "      <td>1460.000000</td>\n",
       "      <td>1460.000000</td>\n",
       "      <td>1460.000000</td>\n",
       "      <td>1460.000000</td>\n",
       "      <td>1460.000000</td>\n",
       "      <td>1460.000000</td>\n",
       "      <td>1460.000000</td>\n",
       "    </tr>\n",
       "    <tr>\n",
       "      <th>mean</th>\n",
       "      <td>1.565068</td>\n",
       "      <td>2.758904</td>\n",
       "      <td>15.060959</td>\n",
       "      <td>3.409589</td>\n",
       "      <td>21.954110</td>\n",
       "      <td>46.660274</td>\n",
       "      <td>94.244521</td>\n",
       "      <td>472.980137</td>\n",
       "      <td>1.767123</td>\n",
       "      <td>0.613014</td>\n",
       "      <td>...</td>\n",
       "      <td>0.091567</td>\n",
       "      <td>0.483553</td>\n",
       "      <td>0.124534</td>\n",
       "      <td>0.013535</td>\n",
       "      <td>0.064680</td>\n",
       "      <td>1.356483</td>\n",
       "      <td>0.521354</td>\n",
       "      <td>0.127276</td>\n",
       "      <td>0.044532</td>\n",
       "      <td>0.162339</td>\n",
       "    </tr>\n",
       "    <tr>\n",
       "      <th>std</th>\n",
       "      <td>0.550916</td>\n",
       "      <td>40.177307</td>\n",
       "      <td>55.757415</td>\n",
       "      <td>29.317331</td>\n",
       "      <td>61.119149</td>\n",
       "      <td>66.256028</td>\n",
       "      <td>125.338794</td>\n",
       "      <td>213.804841</td>\n",
       "      <td>0.747315</td>\n",
       "      <td>0.644666</td>\n",
       "      <td>...</td>\n",
       "      <td>0.100467</td>\n",
       "      <td>0.481390</td>\n",
       "      <td>0.315828</td>\n",
       "      <td>0.106714</td>\n",
       "      <td>0.227132</td>\n",
       "      <td>0.444028</td>\n",
       "      <td>0.491343</td>\n",
       "      <td>0.320711</td>\n",
       "      <td>0.563486</td>\n",
       "      <td>0.996459</td>\n",
       "    </tr>\n",
       "    <tr>\n",
       "      <th>min</th>\n",
       "      <td>0.000000</td>\n",
       "      <td>0.000000</td>\n",
       "      <td>0.000000</td>\n",
       "      <td>0.000000</td>\n",
       "      <td>0.000000</td>\n",
       "      <td>0.000000</td>\n",
       "      <td>0.000000</td>\n",
       "      <td>0.000000</td>\n",
       "      <td>0.000000</td>\n",
       "      <td>0.000000</td>\n",
       "      <td>...</td>\n",
       "      <td>0.000000</td>\n",
       "      <td>0.000000</td>\n",
       "      <td>0.000000</td>\n",
       "      <td>0.000000</td>\n",
       "      <td>0.000000</td>\n",
       "      <td>1.000000</td>\n",
       "      <td>0.000000</td>\n",
       "      <td>0.000000</td>\n",
       "      <td>0.000000</td>\n",
       "      <td>0.000000</td>\n",
       "    </tr>\n",
       "    <tr>\n",
       "      <th>25%</th>\n",
       "      <td>1.000000</td>\n",
       "      <td>0.000000</td>\n",
       "      <td>0.000000</td>\n",
       "      <td>0.000000</td>\n",
       "      <td>0.000000</td>\n",
       "      <td>0.000000</td>\n",
       "      <td>0.000000</td>\n",
       "      <td>334.500000</td>\n",
       "      <td>1.000000</td>\n",
       "      <td>0.000000</td>\n",
       "      <td>...</td>\n",
       "      <td>0.000000</td>\n",
       "      <td>0.000000</td>\n",
       "      <td>0.000000</td>\n",
       "      <td>0.000000</td>\n",
       "      <td>0.000000</td>\n",
       "      <td>1.000000</td>\n",
       "      <td>0.000000</td>\n",
       "      <td>0.000000</td>\n",
       "      <td>0.000000</td>\n",
       "      <td>0.000000</td>\n",
       "    </tr>\n",
       "    <tr>\n",
       "      <th>50%</th>\n",
       "      <td>2.000000</td>\n",
       "      <td>0.000000</td>\n",
       "      <td>0.000000</td>\n",
       "      <td>0.000000</td>\n",
       "      <td>0.000000</td>\n",
       "      <td>25.000000</td>\n",
       "      <td>0.000000</td>\n",
       "      <td>480.000000</td>\n",
       "      <td>2.000000</td>\n",
       "      <td>1.000000</td>\n",
       "      <td>...</td>\n",
       "      <td>0.105556</td>\n",
       "      <td>0.291935</td>\n",
       "      <td>0.000000</td>\n",
       "      <td>0.000000</td>\n",
       "      <td>0.000000</td>\n",
       "      <td>1.000000</td>\n",
       "      <td>1.000000</td>\n",
       "      <td>0.000000</td>\n",
       "      <td>0.000000</td>\n",
       "      <td>0.000000</td>\n",
       "    </tr>\n",
       "    <tr>\n",
       "      <th>75%</th>\n",
       "      <td>2.000000</td>\n",
       "      <td>0.000000</td>\n",
       "      <td>0.000000</td>\n",
       "      <td>0.000000</td>\n",
       "      <td>0.000000</td>\n",
       "      <td>68.000000</td>\n",
       "      <td>168.000000</td>\n",
       "      <td>576.000000</td>\n",
       "      <td>2.000000</td>\n",
       "      <td>1.000000</td>\n",
       "      <td>...</td>\n",
       "      <td>0.166667</td>\n",
       "      <td>1.000000</td>\n",
       "      <td>0.000000</td>\n",
       "      <td>0.000000</td>\n",
       "      <td>0.000000</td>\n",
       "      <td>1.783578</td>\n",
       "      <td>1.000000</td>\n",
       "      <td>0.000000</td>\n",
       "      <td>0.000000</td>\n",
       "      <td>0.000000</td>\n",
       "    </tr>\n",
       "    <tr>\n",
       "      <th>max</th>\n",
       "      <td>3.000000</td>\n",
       "      <td>738.000000</td>\n",
       "      <td>480.000000</td>\n",
       "      <td>508.000000</td>\n",
       "      <td>552.000000</td>\n",
       "      <td>547.000000</td>\n",
       "      <td>857.000000</td>\n",
       "      <td>1418.000000</td>\n",
       "      <td>4.000000</td>\n",
       "      <td>3.000000</td>\n",
       "      <td>...</td>\n",
       "      <td>0.500000</td>\n",
       "      <td>1.000000</td>\n",
       "      <td>1.000000</td>\n",
       "      <td>1.000000</td>\n",
       "      <td>1.000000</td>\n",
       "      <td>3.882828</td>\n",
       "      <td>1.000000</td>\n",
       "      <td>1.000000</td>\n",
       "      <td>14.941176</td>\n",
       "      <td>19.800000</td>\n",
       "    </tr>\n",
       "  </tbody>\n",
       "</table>\n",
       "<p>8 rows × 232 columns</p>\n",
       "</div>"
      ],
      "text/plain": [
       "          FullBath     PoolArea  ScreenPorch    3SsnPorch  EnclosedPorch  \\\n",
       "count  1460.000000  1460.000000  1460.000000  1460.000000    1460.000000   \n",
       "mean      1.565068     2.758904    15.060959     3.409589      21.954110   \n",
       "std       0.550916    40.177307    55.757415    29.317331      61.119149   \n",
       "min       0.000000     0.000000     0.000000     0.000000       0.000000   \n",
       "25%       1.000000     0.000000     0.000000     0.000000       0.000000   \n",
       "50%       2.000000     0.000000     0.000000     0.000000       0.000000   \n",
       "75%       2.000000     0.000000     0.000000     0.000000       0.000000   \n",
       "max       3.000000   738.000000   480.000000   508.000000     552.000000   \n",
       "\n",
       "       OpenPorchSF   WoodDeckSF   GarageArea   GarageCars   Fireplaces  ...  \\\n",
       "count  1460.000000  1460.000000  1460.000000  1460.000000  1460.000000  ...   \n",
       "mean     46.660274    94.244521   472.980137     1.767123     0.613014  ...   \n",
       "std      66.256028   125.338794   213.804841     0.747315     0.644666  ...   \n",
       "min       0.000000     0.000000     0.000000     0.000000     0.000000  ...   \n",
       "25%       0.000000     0.000000   334.500000     1.000000     0.000000  ...   \n",
       "50%      25.000000     0.000000   480.000000     2.000000     1.000000  ...   \n",
       "75%      68.000000   168.000000   576.000000     2.000000     1.000000  ...   \n",
       "max     547.000000   857.000000  1418.000000     4.000000     3.000000  ...   \n",
       "\n",
       "       %_Fireplaces_TotRms  %_OpenPorch_TotAllTypePORCH  \\\n",
       "count          1460.000000                  1460.000000   \n",
       "mean              0.091567                     0.483553   \n",
       "std               0.100467                     0.481390   \n",
       "min               0.000000                     0.000000   \n",
       "25%               0.000000                     0.000000   \n",
       "50%               0.105556                     0.291935   \n",
       "75%               0.166667                     1.000000   \n",
       "max               0.500000                     1.000000   \n",
       "\n",
       "       %_EnclosedP_TotAllTypePORCH  %_3SsnPorch_TotAllTypePORCH  \\\n",
       "count                  1460.000000                  1460.000000   \n",
       "mean                      0.124534                     0.013535   \n",
       "std                       0.315828                     0.106714   \n",
       "min                       0.000000                     0.000000   \n",
       "25%                       0.000000                     0.000000   \n",
       "50%                       0.000000                     0.000000   \n",
       "75%                       0.000000                     0.000000   \n",
       "max                       1.000000                     1.000000   \n",
       "\n",
       "       %_ScreenPo_TotAllTypePORCH  %_GrLivArea_sum_1stFlr_LowQualFi  \\\n",
       "count                 1460.000000                       1460.000000   \n",
       "mean                     0.064680                          1.356483   \n",
       "std                      0.227132                          0.444028   \n",
       "min                      0.000000                          1.000000   \n",
       "25%                      0.000000                          1.000000   \n",
       "50%                      0.000000                          1.000000   \n",
       "75%                      0.000000                          1.783578   \n",
       "max                      1.000000                          3.882828   \n",
       "\n",
       "       %_OpenPorchSF_sum_OCPORCH  %_EnclosedPorch_sum_OCPORCH  \\\n",
       "count                1460.000000                  1460.000000   \n",
       "mean                    0.521354                     0.127276   \n",
       "std                     0.491343                     0.320711   \n",
       "min                     0.000000                     0.000000   \n",
       "25%                     0.000000                     0.000000   \n",
       "50%                     1.000000                     0.000000   \n",
       "75%                     1.000000                     0.000000   \n",
       "max                     1.000000                     1.000000   \n",
       "\n",
       "       %_3SsnPorch_sum_sum_OCPORCH  %_ScreenPorch_sum_sum_OCPORCH  \n",
       "count                  1460.000000                    1460.000000  \n",
       "mean                      0.044532                       0.162339  \n",
       "std                       0.563486                       0.996459  \n",
       "min                       0.000000                       0.000000  \n",
       "25%                       0.000000                       0.000000  \n",
       "50%                       0.000000                       0.000000  \n",
       "75%                       0.000000                       0.000000  \n",
       "max                      14.941176                      19.800000  \n",
       "\n",
       "[8 rows x 232 columns]"
      ]
     },
     "execution_count": 49,
     "metadata": {},
     "output_type": "execute_result"
    }
   ],
   "source": [
    "x_data_final = x_data_final.fillna(0)\n",
    "x_data_final.replace(np.inf, 0, inplace=True)\n",
    "x_data_final.describe()"
   ]
  },
  {
   "cell_type": "code",
   "execution_count": null,
   "id": "4ef51637-2ac8-4d73-813a-8d957247cd29",
   "metadata": {},
   "outputs": [],
   "source": []
  },
  {
   "cell_type": "markdown",
   "id": "024b8378-1221-41f6-b19b-490b3ebd9f02",
   "metadata": {},
   "source": [
    "# Model Training"
   ]
  },
  {
   "cell_type": "code",
   "execution_count": 50,
   "id": "907f57ab-c9fe-4dcc-9edb-cb8f003ed0c0",
   "metadata": {},
   "outputs": [],
   "source": [
    "features_v2 = x_data_final.columns.to_numpy()\n",
    "target = ['SalePrice']\n",
    "# Separating out the features\n",
    "x = x_data_final.loc[:, features_v2]\n",
    "# Separating out the target\n",
    "y = data_final.loc[:, target]"
   ]
  },
  {
   "cell_type": "code",
   "execution_count": 51,
   "id": "56110967-f168-409c-ac9d-c84d745ead64",
   "metadata": {},
   "outputs": [],
   "source": [
    "x_train, x_test, y_train, y_test = train_test_split(\n",
    "    x, y, train_size=0.75, random_state=0)\n",
    "x_train_scaled = StandardScaler().fit_transform(x_train)\n",
    "x_test_scaled = StandardScaler().fit_transform(x_test)"
   ]
  },
  {
   "cell_type": "markdown",
   "id": "d2eb7045-8e61-42bc-9cd2-f48c881871ce",
   "metadata": {},
   "source": [
    "## Linear Reression "
   ]
  },
  {
   "cell_type": "code",
   "execution_count": null,
   "id": "ac4b7565-bc82-401e-8869-75409cc850c4",
   "metadata": {},
   "outputs": [],
   "source": []
  },
  {
   "cell_type": "code",
   "execution_count": 52,
   "id": "b5209521-8349-4495-9cc8-db8a466ea4cd",
   "metadata": {},
   "outputs": [
    {
     "data": {
      "text/plain": [
       "0.5113548685526544"
      ]
     },
     "execution_count": 52,
     "metadata": {},
     "output_type": "execute_result"
    }
   ],
   "source": [
    "regr_s = linear_model.LinearRegression()\n",
    "regr_s.fit(x_train, y_train)\n",
    "regr_s.score(x_test, y_test)"
   ]
  },
  {
   "cell_type": "code",
   "execution_count": null,
   "id": "a4b11a54-6406-48cc-b451-d12d9d29844b",
   "metadata": {},
   "outputs": [],
   "source": []
  },
  {
   "cell_type": "markdown",
   "id": "2e5d4d89-869f-49b2-a34f-129d582ae096",
   "metadata": {},
   "source": [
    "## Regression ridge"
   ]
  },
  {
   "cell_type": "code",
   "execution_count": 53,
   "id": "349a4a42-756e-4a26-9a4f-445a81531d72",
   "metadata": {},
   "outputs": [],
   "source": [
    "lrr = Ridge(alpha=0.1, max_iter=10000)\n",
    "alphas = np.logspace(-6, 6, 200)"
   ]
  },
  {
   "cell_type": "code",
   "execution_count": 54,
   "id": "09749da1-9781-4d38-abff-bc6da48d1709",
   "metadata": {},
   "outputs": [
    {
     "data": {
      "text/plain": [
       "0.6396227223910383"
      ]
     },
     "execution_count": 54,
     "metadata": {},
     "output_type": "execute_result"
    }
   ],
   "source": [
    "lrr.fit(x_train_scaled, y_train)\n",
    "lrr.score(x_test_scaled, y_test)"
   ]
  },
  {
   "cell_type": "code",
   "execution_count": 55,
   "id": "0f7ec075-6381-48ab-b132-468f51b95240",
   "metadata": {},
   "outputs": [
    {
     "data": {
      "text/plain": [
       "0.5541427699939523"
      ]
     },
     "execution_count": 55,
     "metadata": {},
     "output_type": "execute_result"
    }
   ],
   "source": [
    "lrr.fit(x_train, y_train)\n",
    "lrr.score(x_test, y_test)"
   ]
  },
  {
   "cell_type": "markdown",
   "id": "26b0790c-cff1-4db8-9110-1811a2bc650e",
   "metadata": {},
   "source": [
    "## Regression Lasso"
   ]
  },
  {
   "cell_type": "code",
   "execution_count": 56,
   "id": "df60a4da-acbd-46eb-9bf5-3e66fa50a1cf",
   "metadata": {},
   "outputs": [],
   "source": [
    "from sklearn import linear_model\n",
    "lrl = linear_model.Lasso(alpha=0.1, max_iter=10000)"
   ]
  },
  {
   "cell_type": "code",
   "execution_count": 57,
   "id": "68cfa61a-1bb4-4786-acdc-64c709f3eb2e",
   "metadata": {},
   "outputs": [
    {
     "name": "stderr",
     "output_type": "stream",
     "text": [
      "C:\\Users\\morgan\\Anaconda3\\lib\\site-packages\\sklearn\\linear_model\\_coordinate_descent.py:530: ConvergenceWarning: Objective did not converge. You might want to increase the number of iterations. Duality gap: 234639598072.31973, tolerance: 679805682.3059437\n",
      "  model = cd_fast.enet_coordinate_descent(\n"
     ]
    },
    {
     "data": {
      "text/plain": [
       "0.535504527230569"
      ]
     },
     "execution_count": 57,
     "metadata": {},
     "output_type": "execute_result"
    }
   ],
   "source": [
    "lrl.fit(x_train, y_train)\n",
    "lrl.score(x_test, y_test)"
   ]
  },
  {
   "cell_type": "code",
   "execution_count": 58,
   "id": "8d7e6675-418d-4634-9ee5-e0f7dd5541ae",
   "metadata": {},
   "outputs": [
    {
     "name": "stderr",
     "output_type": "stream",
     "text": [
      "C:\\Users\\morgan\\Anaconda3\\lib\\site-packages\\sklearn\\linear_model\\_coordinate_descent.py:530: ConvergenceWarning: Objective did not converge. You might want to increase the number of iterations. Duality gap: 140039318514.12054, tolerance: 679805682.3059437\n",
      "  model = cd_fast.enet_coordinate_descent(\n"
     ]
    },
    {
     "data": {
      "text/plain": [
       "0.6408067883261918"
      ]
     },
     "execution_count": 58,
     "metadata": {},
     "output_type": "execute_result"
    }
   ],
   "source": [
    "lrl.fit(x_train_scaled, y_train)\n",
    "lrl.score(x_test_scaled, y_test)"
   ]
  },
  {
   "cell_type": "markdown",
   "id": "22ec369d-f3f1-4f89-b4f2-44dc438ee128",
   "metadata": {},
   "source": [
    "## KNN Regressor"
   ]
  },
  {
   "cell_type": "code",
   "execution_count": 59,
   "id": "4b4109e4-3c10-40f4-af7b-c9d4e1afd13f",
   "metadata": {},
   "outputs": [
    {
     "data": {
      "text/plain": [
       "[<matplotlib.lines.Line2D at 0x1a441eec130>]"
      ]
     },
     "execution_count": 59,
     "metadata": {},
     "output_type": "execute_result"
    },
    {
     "data": {
      "image/png": "[encoded data removed]",
      "text/plain": [
       "<Figure size 2400x640 with 1 Axes>"
      ]
     },
     "metadata": {
      "needs_background": "light"
     },
     "output_type": "display_data"
    }
   ],
   "source": [
    "errors = []\n",
    "for k in range(2, 30):\n",
    "    knn = neighbors.KNeighborsRegressor(n_neighbors=k)\n",
    "    errors.append(100*((\n",
    "        knn.fit(x_train, y_train).score(x_test, y_test))))\n",
    "figure(figsize=(30, 8), dpi=80)\n",
    "plt.pyplot.plot(range(2, 30), errors, 'o-')"
   ]
  },
  {
   "cell_type": "code",
   "execution_count": 60,
   "id": "d12fdf33-a55d-48cf-9084-a6fafdff5bf6",
   "metadata": {},
   "outputs": [
    {
     "data": {
      "text/plain": [
       "[<matplotlib.lines.Line2D at 0x1a441e7f040>]"
      ]
     },
     "execution_count": 60,
     "metadata": {},
     "output_type": "execute_result"
    },
    {
     "data": {
      "image/png": "[encoded data removed]",
      "text/plain": [
       "<Figure size 2400x640 with 1 Axes>"
      ]
     },
     "metadata": {
      "needs_background": "light"
     },
     "output_type": "display_data"
    }
   ],
   "source": [
    "errors = []\n",
    "for k in range(2, 30):\n",
    "    knn = neighbors.KNeighborsRegressor(n_neighbors=k)\n",
    "    errors.append(100*((knn.fit(\n",
    "        x_train_scaled, y_train).score(x_test_scaled, y_test))))\n",
    "figure(figsize=(30, 8), dpi=80)\n",
    "plt.pyplot.plot(range(2, 30), errors, 'o-')"
   ]
  },
  {
   "cell_type": "code",
   "execution_count": null,
   "id": "8606e5d0-de4d-4d06-a6e5-dd6ce58cdb74",
   "metadata": {},
   "outputs": [],
   "source": []
  },
  {
   "cell_type": "markdown",
   "id": "c7a6d536-d870-4723-bb2a-b1101d938565",
   "metadata": {},
   "source": [
    "### Random Forrest Regressor "
   ]
  },
  {
   "cell_type": "code",
   "execution_count": 61,
   "id": "51a9a9bc-d41d-4ef3-8a41-b912f7c5a4d3",
   "metadata": {},
   "outputs": [
    {
     "name": "stderr",
     "output_type": "stream",
     "text": [
      "<ipython-input-61-4efc97a55c20>:2: DataConversionWarning: A column-vector y was passed when a 1d array was expected. Please change the shape of y to (n_samples,), for example using ravel().\n",
      "  rdm.fit(x_train_scaled, y_train)\n"
     ]
    },
    {
     "data": {
      "text/plain": [
       "0.8606775187368273"
      ]
     },
     "execution_count": 61,
     "metadata": {},
     "output_type": "execute_result"
    }
   ],
   "source": [
    "rdm = RandomForestRegressor(n_estimators=10000)\n",
    "rdm.fit(x_train_scaled, y_train)\n",
    "rdm.score(x_test_scaled, y_test)"
   ]
  },
  {
   "cell_type": "code",
   "execution_count": 62,
   "id": "38795ef8-c934-4a38-b85f-cd1f5c067e2c",
   "metadata": {},
   "outputs": [
    {
     "name": "stderr",
     "output_type": "stream",
     "text": [
      "<ipython-input-62-4b9406f22822>:2: DataConversionWarning: A column-vector y was passed when a 1d array was expected. Please change the shape of y to (n_samples,), for example using ravel().\n",
      "  rdm.fit(x_train, y_train)\n"
     ]
    },
    {
     "data": {
      "text/plain": [
       "0.8620505637759768"
      ]
     },
     "execution_count": 62,
     "metadata": {},
     "output_type": "execute_result"
    }
   ],
   "source": [
    "rdm = RandomForestRegressor(n_estimators=10000)\n",
    "rdm.fit(x_train, y_train)\n",
    "rdm.score(x_test, y_test)"
   ]
  },
  {
   "cell_type": "markdown",
   "id": "6bf36c7d-ad8a-48ad-b196-a87da408c98c",
   "metadata": {},
   "source": [
    "## SVR"
   ]
  },
  {
   "cell_type": "code",
   "execution_count": null,
   "id": "5c222bf4-1f33-45d3-a341-841efbf380d0",
   "metadata": {},
   "outputs": [],
   "source": []
  },
  {
   "cell_type": "code",
   "execution_count": 63,
   "id": "ffa45efc-51b3-484d-b1b9-2b4bbdfc4d04",
   "metadata": {},
   "outputs": [
    {
     "name": "stderr",
     "output_type": "stream",
     "text": [
      "C:\\Users\\morgan\\Anaconda3\\lib\\site-packages\\sklearn\\utils\\validation.py:63: DataConversionWarning: A column-vector y was passed when a 1d array was expected. Please change the shape of y to (n_samples, ), for example using ravel().\n",
      "  return f(*args, **kwargs)\n"
     ]
    },
    {
     "data": {
      "text/plain": [
       "-0.0540548379205974"
      ]
     },
     "execution_count": 63,
     "metadata": {},
     "output_type": "execute_result"
    }
   ],
   "source": [
    "regr_SVR = SVR(C=1.0, epsilon=0.2)\n",
    "regr_SVR.fit(x_train_scaled, y_train)\n",
    "regr_SVR.score(x_test_scaled, y_test)"
   ]
  },
  {
   "cell_type": "code",
   "execution_count": 64,
   "id": "88b7ba29-4279-49c3-84e2-efdc4fd4fee0",
   "metadata": {},
   "outputs": [
    {
     "name": "stderr",
     "output_type": "stream",
     "text": [
      "C:\\Users\\morgan\\Anaconda3\\lib\\site-packages\\sklearn\\utils\\validation.py:63: DataConversionWarning: A column-vector y was passed when a 1d array was expected. Please change the shape of y to (n_samples, ), for example using ravel().\n",
      "  return f(*args, **kwargs)\n"
     ]
    },
    {
     "data": {
      "text/plain": [
       "-0.05431370083238396"
      ]
     },
     "execution_count": 64,
     "metadata": {},
     "output_type": "execute_result"
    }
   ],
   "source": [
    "regr_SVR = SVR(C=1.0, epsilon=0.2)\n",
    "regr_SVR.fit(x_train, y_train)\n",
    "regr_SVR.score(x_test, y_test)"
   ]
  },
  {
   "cell_type": "markdown",
   "id": "8a9cc2da-94ad-49c9-b5f2-3701166d4820",
   "metadata": {},
   "source": [
    "## GBoost"
   ]
  },
  {
   "cell_type": "code",
   "execution_count": 65,
   "id": "67cb6f88-99a9-4966-831c-04b211f7123c",
   "metadata": {},
   "outputs": [
    {
     "name": "stderr",
     "output_type": "stream",
     "text": [
      "C:\\Users\\morgan\\Anaconda3\\lib\\site-packages\\sklearn\\utils\\validation.py:63: DataConversionWarning: A column-vector y was passed when a 1d array was expected. Please change the shape of y to (n_samples, ), for example using ravel().\n",
      "  return f(*args, **kwargs)\n"
     ]
    },
    {
     "data": {
      "text/plain": [
       "0.8877801138043264"
      ]
     },
     "execution_count": 65,
     "metadata": {},
     "output_type": "execute_result"
    },
    {
     "name": "stderr",
     "output_type": "stream",
     "text": [
      "1:80: E501 line too long (99 > 79 characters)\n"
     ]
    }
   ],
   "source": [
    "est = GradientBoostingRegressor(n_estimators=10000, learning_rate=0.1, max_depth=1, random_state=0)\n",
    "est.fit(x_train_scaled, y_train)\n",
    "est.score(x_test_scaled, y_test)"
   ]
  },
  {
   "cell_type": "code",
   "execution_count": 66,
   "id": "7e9a961c-282a-4a06-8c1d-50a8725292b3",
   "metadata": {},
   "outputs": [
    {
     "name": "stderr",
     "output_type": "stream",
     "text": [
      "C:\\Users\\morgan\\Anaconda3\\lib\\site-packages\\sklearn\\utils\\validation.py:63: DataConversionWarning: A column-vector y was passed when a 1d array was expected. Please change the shape of y to (n_samples, ), for example using ravel().\n",
      "  return f(*args, **kwargs)\n"
     ]
    },
    {
     "data": {
      "text/plain": [
       "0.8824846041262995"
      ]
     },
     "execution_count": 66,
     "metadata": {},
     "output_type": "execute_result"
    }
   ],
   "source": [
    "est.fit(x_train, y_train)\n",
    "est.score(x_test, y_test)"
   ]
  },
  {
   "cell_type": "markdown",
   "id": "80820737-aa42-41ab-bd20-84891e506c0c",
   "metadata": {},
   "source": [
    "## SGD EGRESSO "
   ]
  },
  {
   "cell_type": "code",
   "execution_count": 67,
   "id": "8634b0d5-d420-448f-8697-72e4b2982a2d",
   "metadata": {},
   "outputs": [
    {
     "name": "stderr",
     "output_type": "stream",
     "text": [
      "C:\\Users\\morgan\\Anaconda3\\lib\\site-packages\\sklearn\\utils\\validation.py:63: DataConversionWarning: A column-vector y was passed when a 1d array was expected. Please change the shape of y to (n_samples, ), for example using ravel().\n",
      "  return f(*args, **kwargs)\n"
     ]
    },
    {
     "data": {
      "text/plain": [
       "-5.454698838032653e+23"
      ]
     },
     "execution_count": 67,
     "metadata": {},
     "output_type": "execute_result"
    }
   ],
   "source": [
    "reg_sgd = SGDRegressor(max_iter=1000, tol=1e-3)\n",
    "reg_sgd.fit(x_train, y_train)\n",
    "reg_sgd.score(x_test, y_test)"
   ]
  },
  {
   "cell_type": "code",
   "execution_count": 68,
   "id": "d2b98b91-ae48-421a-a813-54988701748c",
   "metadata": {},
   "outputs": [
    {
     "name": "stderr",
     "output_type": "stream",
     "text": [
      "C:\\Users\\morgan\\Anaconda3\\lib\\site-packages\\sklearn\\utils\\validation.py:63: DataConversionWarning: A column-vector y was passed when a 1d array was expected. Please change the shape of y to (n_samples, ), for example using ravel().\n",
      "  return f(*args, **kwargs)\n"
     ]
    },
    {
     "data": {
      "text/plain": [
       "-52.66751338014591"
      ]
     },
     "execution_count": 68,
     "metadata": {},
     "output_type": "execute_result"
    }
   ],
   "source": [
    "reg_sgd.fit(x_train_scaled, y_train)\n",
    "reg_sgd.score(x_test_scaled, y_test)"
   ]
  },
  {
   "cell_type": "markdown",
   "id": "548cdd15-449a-43ee-a5d5-a522ea9a12fa",
   "metadata": {},
   "source": [
    "## MLP"
   ]
  },
  {
   "cell_type": "code",
   "execution_count": 69,
   "id": "f1c6ff92-12a9-49a1-9c9b-84adf52cf9fa",
   "metadata": {},
   "outputs": [
    {
     "name": "stderr",
     "output_type": "stream",
     "text": [
      "C:\\Users\\morgan\\Anaconda3\\lib\\site-packages\\sklearn\\utils\\validation.py:63: DataConversionWarning: A column-vector y was passed when a 1d array was expected. Please change the shape of y to (n_samples, ), for example using ravel().\n",
      "  return f(*args, **kwargs)\n",
      "C:\\Users\\morgan\\Anaconda3\\lib\\site-packages\\sklearn\\neural_network\\_multilayer_perceptron.py:614: ConvergenceWarning: Stochastic Optimizer: Maximum iterations (500) reached and the optimization hasn't converged yet.\n",
      "  warnings.warn(\n"
     ]
    },
    {
     "data": {
      "text/plain": [
       "-3.4427224625907717"
      ]
     },
     "execution_count": 69,
     "metadata": {},
     "output_type": "execute_result"
    }
   ],
   "source": [
    "regr_mlp = MLPRegressor(random_state=1, max_iter=500)\n",
    "regr_mlp.fit(x_train_scaled, y_train)\n",
    "regr_mlp.score(x_test_scaled, y_test)"
   ]
  },
  {
   "cell_type": "code",
   "execution_count": 70,
   "id": "2ad88579-ac6e-4fce-84a9-c3936a42437c",
   "metadata": {},
   "outputs": [
    {
     "name": "stderr",
     "output_type": "stream",
     "text": [
      "C:\\Users\\morgan\\Anaconda3\\lib\\site-packages\\sklearn\\utils\\validation.py:63: DataConversionWarning: A column-vector y was passed when a 1d array was expected. Please change the shape of y to (n_samples, ), for example using ravel().\n",
      "  return f(*args, **kwargs)\n",
      "C:\\Users\\morgan\\Anaconda3\\lib\\site-packages\\sklearn\\neural_network\\_multilayer_perceptron.py:614: ConvergenceWarning: Stochastic Optimizer: Maximum iterations (500) reached and the optimization hasn't converged yet.\n",
      "  warnings.warn(\n"
     ]
    },
    {
     "data": {
      "text/plain": [
       "0.5434601302354002"
      ]
     },
     "execution_count": 70,
     "metadata": {},
     "output_type": "execute_result"
    }
   ],
   "source": [
    "regr_mlp.fit(x_train, y_train)\n",
    "regr_mlp.score(x_test, y_test)"
   ]
  },
  {
   "cell_type": "code",
   "execution_count": null,
   "id": "a8328b1f-4bca-4ec1-9a39-23481ea00fe4",
   "metadata": {},
   "outputs": [],
   "source": []
  },
  {
   "cell_type": "markdown",
   "id": "ee63c9d2-dca9-4949-bb95-5146385525de",
   "metadata": {},
   "source": [
    "### Grid Search"
   ]
  },
  {
   "cell_type": "code",
   "execution_count": null,
   "id": "502714f2-d650-4c05-9a6e-3c26234f91fc",
   "metadata": {},
   "outputs": [],
   "source": [
    "from sklearn import neighbors, metrics\n",
    "from sklearn import model_selection\n",
    "from sklearn import ensemble\n",
    "\n",
    "# Fixer les valeurs des hyperparamètres à tester\n",
    "parameters = {\n",
    "    \"learning_rate\": [0.01, 0.025, 0.05, 0.075, 0.1, 0.15, 0.2],\n",
    "    \"min_samples_split\": np.linspace(0.1, 0.5, 12),\n",
    "    \"min_samples_leaf\": np.linspace(0.1, 0.5, 12),\n",
    "    \"max_depth\":[3,5,8],\n",
    "    \"max_features\":[\"log2\",\"sqrt\"],\n",
    "    \"criterion\": [\"friedman_mse\",  \"mae\"],\n",
    "    \"subsample\":[0.5, 0.618, 0.8, 0.85, 0.9, 0.95, 1.0],\n",
    "    \"n_estimators\":[10]\n",
    "    }\n",
    "# Choisir un score à optimiser, ici l'accuracy (proportion de prédictions correctes)\n",
    "score = 'r2'\n",
    "\n",
    "# Créer un regresseur forets aleatoires avec recherche d'hyperparamètre par validation croisée\n",
    "clf = model_selection.GridSearchCV(\n",
    "    ensemble.GradientBoostingRegressor(random_state = 0), # un regression forrets aléatoires\n",
    "    parameters,     # hyperparamètres à tester\n",
    "    cv=5,           # nombre de folds de validation croisée\n",
    "    scoring=score   # score à optimiser\n",
    ")\n"
   ]
  },
  {
   "cell_type": "code",
   "execution_count": null,
   "id": "d739b22a-2cd4-43bf-9f34-aa496f8d7efa",
   "metadata": {
    "tags": []
   },
   "outputs": [],
   "source": [
    "\n",
    "# Optimiser ce classifieur sur le jeu d'entraînement\n",
    "clf.fit(x_train , y_train.values.ravel())\n"
   ]
  },
  {
   "cell_type": "code",
   "execution_count": null,
   "id": "ddedb965-6f45-4613-a651-8930ccf6a437",
   "metadata": {},
   "outputs": [],
   "source": []
  },
  {
   "cell_type": "code",
   "execution_count": null,
   "id": "8386eb84-1a85-4055-bfe5-2e8f3023e31e",
   "metadata": {},
   "outputs": [],
   "source": [
    "# Afficher le(s) hyperparamètre(s) optimaux\n",
    "print(\"Meilleur(s) hyperparamètre(s) sur le jeu d'entraînement:\")\n",
    "print(clf.best_score_)\n",
    "print(clf.best_params_)"
   ]
  },
  {
   "cell_type": "code",
   "execution_count": 71,
   "id": "e7269a54-f50a-40fd-a4fe-35e6ccb17fc1",
   "metadata": {},
   "outputs": [
    {
     "data": {
      "text/plain": [
       "0.9108200158808544"
      ]
     },
     "execution_count": 71,
     "metadata": {},
     "output_type": "execute_result"
    }
   ],
   "source": [
    "regressor = GradientBoostingRegressor(n_estimators=10000)\n",
    "regressor.fit(x_train, y_train.values.ravel())\n",
    "regressor.score(x_test, y_test.values.ravel())"
   ]
  },
  {
   "cell_type": "code",
   "execution_count": 72,
   "id": "d60da4e3-7413-4163-9119-4344da0aef06",
   "metadata": {},
   "outputs": [
    {
     "data": {
      "text/plain": [
       "0.9093112283993074"
      ]
     },
     "execution_count": 72,
     "metadata": {},
     "output_type": "execute_result"
    }
   ],
   "source": [
    "regressor.fit(x_train_scaled, y_train.values.ravel())\n",
    "regressor.score(x_test_scaled, y_test.values.ravel())"
   ]
  },
  {
   "cell_type": "markdown",
   "id": "2fa37a6a-ae5f-4fde-b6a0-5f4c53962fee",
   "metadata": {},
   "source": [
    "# Test data"
   ]
  },
  {
   "cell_type": "code",
   "execution_count": null,
   "id": "6c0f9bcd-441c-496b-a56b-a1d1baf67d8b",
   "metadata": {},
   "outputs": [],
   "source": []
  }
 ],
 "metadata": {
  "kernelspec": {
   "display_name": "Python 3",
   "language": "python",
   "name": "python3"
  },
  "language_info": {
   "codemirror_mode": {
    "name": "ipython",
    "version": 3
   },
   "file_extension": ".py",
   "mimetype": "text/x-python",
   "name": "python",
   "nbconvert_exporter": "python",
   "pygments_lexer": "ipython3",
   "version": "3.8.8"
  }
 },
 "nbformat": 4,
 "nbformat_minor": 5
}
